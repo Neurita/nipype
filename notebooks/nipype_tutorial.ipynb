{
 "cells": [
  {
   "cell_type": "markdown",
   "metadata": {
    "cell_style": "center",
    "heading_collapsed": true,
    "slideshow": {
     "slide_type": "slide"
    }
   },
   "source": [
    "# Dissecting Nipype Workflows\n",
    "\n",
    "<center>\n",
    "Nipype team | contact: satra@mit.edu  |  nipy.org/nipype\n",
    "<br>\n",
    "(Hit Esc to get an overview)\n",
    "</center>[Latest version][notebook] | [Latest slideshow][slideshow]\n",
    "\n",
    "[notebook]: http://nbviewer.ipython.org/urls/raw.github.com/nipy/nipype/master/examples/nipype_tutorial.ipynb\n",
    "[slideshow]: http://slideviewer.herokuapp.com/url/raw.github.com/nipy/nipype/master/examples/nipype_tutorial.ipynb"
   ]
  },
  {
   "cell_type": "markdown",
   "metadata": {
    "slideshow": {
     "slide_type": "subslide"
    }
   },
   "source": [
    "# Contributors\n",
    "\n",
    "http://nipy.org/nipype/about.html#code-contributors\n",
    "\n",
    "# Funding\n",
    "\n",
    "- 1R03EB008673-01 from NIBIB, Satrajit Ghosh, Susan Whitfield-Gabrieli\n",
    "- 5R01MH081909-02 from NIMH, Mark D'Esposito\n",
    "- INCF\n",
    "\n",
    "# Conflict of interest\n",
    "\n",
    "<center>\n",
    "Satrajit Ghosh: TankThink Labs, LLC\n",
    "</center>"
   ]
  },
  {
   "cell_type": "markdown",
   "metadata": {
    "slideshow": {
     "slide_type": "slide"
    }
   },
   "source": [
    "# What is Nipype?\n",
    "\n",
    "<center>\n",
    "<img src=\"https://raw.github.com/satra/intro2nipype/master/images/nipype.png\" width=\"40%\" />\n",
    "<br>\n",
    "Figure designed and created by: Arno Klein (www.mindboggle.info)\n",
    "</center>\n"
   ]
  },
  {
   "cell_type": "markdown",
   "metadata": {
    "slideshow": {
     "slide_type": "subslide"
    }
   },
   "source": [
    "# Make life a little easier\n",
    "\n",
    "<img src=\"https://raw.github.com/satra/intro2nipype/master/images/EDC.png\" />\n",
    "\n",
    "Poline _et al._ (2012)"
   ]
  },
  {
   "cell_type": "markdown",
   "metadata": {
    "slideshow": {
     "slide_type": "subslide"
    }
   },
   "source": [
    "# Many workflow systems out there\n",
    "\n",
    "- [BioImage Suite](http://www.bioimagesuite.org/)\n",
    "- [BIRN Tools](https://wiki.birncommunity.org/x/LgFrAQ)\n",
    "- [BrainVisa](http://brainvisa.info)\n",
    "- [CambaFX](http://www-bmu.psychiatry.cam.ac.uk/software/)\n",
    "- [JIST for MIPAV](http://www.nitrc.org/projects/jist/)\n",
    "- [LONI pipeline](http://pipeline.loni.ucla.edu)\n",
    "- [MEVIS Lab](http://www.mevislab.de)\n",
    "- [PSOM](http://code.google.com/p/psom/)\n"
   ]
  },
  {
   "cell_type": "markdown",
   "metadata": {
    "slideshow": {
     "slide_type": "slide"
    }
   },
   "source": [
    "# Solution requirements\n",
    "\n",
    "Coming at it from a developer's perspective, we needed something\n",
    "\n",
    "- lightweight\n",
    "- scriptable\n",
    "- provided formal, common semantics\n",
    "- allowed interactive exploration\n",
    "- supported efficient batch processing\n",
    "- enabled rapid algorithm prototyping\n",
    "- was flexible and adaptive\n",
    "- part of an ecosystem"
   ]
  },
  {
   "cell_type": "markdown",
   "metadata": {
    "slideshow": {
     "slide_type": "subslide"
    }
   },
   "source": [
    "# Python ecosystem\n",
    "\n",
    "<table width=\"1024px\">\n",
    "<tr>\n",
    "<td colspan=\"2\"><a href=\"http://ipython.org/\"><img src=\"http://ipython.org/_static/IPy_header.png\"></a></td>\n",
    "<td colspan=\"2\"><a href=\"http://nipy.org/\"><img src=\"http://nipy.org/img/nipy.svg\"></a></td>\n",
    "</tr>\n",
    "<tr>\n",
    "<td><a href=\"http://scipy.org/\"><img src=\"http://www.scipy.org/_static/images/tutorial.png\"></a></td>\n",
    "<td><a href=\"http://numpy.org/\"><img src=\"http://www.numpy.org/_static/numpy_logo.png\"></a></td>\n",
    "<td><a href=\"http://pymvpa.org/\"><img src=\"http://www.pymvpa.org/_static/pymvpa_logo.jpg\" width=\"256\"></a></td>\n",
    "<td><a href=\"http://scikit-learn.org/\"><img src=\"http://scikit-learn.org/stable/_static/scikit-learn-logo-small.png\"></a></td>\n",
    "</tr>\n",
    "<tr>\n",
    "<td><a href=\"http://networkx.github.io/\"><img src=\"https://raw.github.com/networkx/networkx/master/doc/source/static/art1.png\" width=\"256\"></a></td>\n",
    "<td><a href=\"http://matplotlib.org/\"><img src=\"http://matplotlib.org/_static/logo2.png\" width=\"256\"></a></td>\n",
    "<td><a href=\"http://code.enthought.com/projects/mayavi/\"><img src=\"http://code.enthought.com/img/mayavi-samp.png\" width=\"256\"></a></td>\n",
    "<td><a href=\"http://neuro.debian.net/\"><img src=\"http://neuro.debian.net/_files/neurodebian_logo_posters_banner.svg\" width=\"256\"></a></td>\n",
    "</tr>\n",
    "</table>\n"
   ]
  },
  {
   "cell_type": "markdown",
   "metadata": {
    "slideshow": {
     "slide_type": "subslide"
    }
   },
   "source": [
    "# Existing technologies\n",
    "\n",
    "**shell scripting**:\n",
    "\n",
    "  Can be quick to do, and powerful, but only provides application specific \n",
    "  scalability, and not easy to port across different architectures.\n",
    "\n",
    "**make/CMake**:\n",
    "\n",
    "  Similar in concept to workflow execution in Nipype, but again limited by the\n",
    "  need for command line tools and flexibility in terms of scaling across\n",
    "  hardware architectures (although see [makeflow](http://nd.edu/~ccl/software/makeflow)."
   ]
  },
  {
   "cell_type": "markdown",
   "metadata": {
    "slideshow": {
     "slide_type": "subslide"
    }
   },
   "source": [
    "# Existing technologies\n",
    "\n",
    "**Octave/MATLAB**:\n",
    "\n",
    "  Integration with other tools is *ad hoc* (i.e., system call) and dataflow is\n",
    "  managed at a programmatic level. However, see [PSOM](http://code.google.com/p/psom/) which offers a nice\n",
    "  alternative to some aspects of Nipype for Octave/Matlab users.\n",
    "\n",
    "**Graphical options**: (e.g., [LONI Pipeline](http://pipeline.loni.ucla.edu), [VisTrails](http://www.vistrails.org/))\n",
    "\n",
    "  Are easy to use but reduces flexibility relative to scripting options."
   ]
  },
  {
   "cell_type": "markdown",
   "metadata": {
    "slideshow": {
     "slide_type": "slide"
    }
   },
   "source": [
    "# Nipype architecture\n",
    "\n",
    "<img src=\"https://raw.github.com/satra/intro2nipype/master/images/arch.png\" width=\"100%\">"
   ]
  },
  {
   "cell_type": "markdown",
   "metadata": {
    "slideshow": {
     "slide_type": "subslide"
    }
   },
   "source": [
    "## Concepts\n",
    "\n",
    "* **Interface**: Wraps a program or function\n",
    "\n",
    "- **Node/MapNode**: Wraps an `Interface` for use in a Workflow that provides\n",
    "  caching and other goodies (e.g., pseudo-sandbox)\n",
    "- **Workflow**: A *graph* or *forest of graphs* whose nodes are of type `Node`,\n",
    "  `MapNode` or `Workflow` and whose edges represent data flow\n",
    "\n",
    "* **Plugin**: A component that describes how a `Workflow` should be executed"
   ]
  },
  {
   "cell_type": "markdown",
   "metadata": {
    "slideshow": {
     "slide_type": "subslide"
    }
   },
   "source": [
    "# Software interfaces\n",
    "\n",
    "Currently supported (5-2-2013). [Click here for latest](http://www.mit.edu/~satra/nipype-nightly/documentation.html)\n",
    "\n",
    "<style>\n",
    ".rendered_html table{border:0px}\n",
    ".rendered_html tr{border:0px}\n",
    ".rendered_html td{border:0px}\n",
    "</style>\n",
    "\n",
    "<table>\n",
    "<tr>\n",
    "<td>\n",
    "<ul>\n",
    "<li><a href=\"http://afni.nimh.nih.gov/afni\">AFNI</a></li>\n",
    "<li><a href=\"http://www.picsl.upenn.edu/ANTS\">ANTS</a></li>\n",
    "<li><a href=\"http://www.psychiatry.uiowa.edu/mhcrc/IPLpages/BRAINS.htm\">BRAINS</a></li>\n",
    "<li><a href=\"http://www.cs.ucl.ac.uk/research/medic/camino\">Camino</a></li>\n",
    "<li><a href=\"http://www.nitrc.org/projects/camino-trackvis\">Camino-TrackVis</a></li>\n",
    "<li><a href=\"http://www.connectomeviewer.org\">ConnectomeViewerToolkit</a></li>\n",
    "<li><a href=\"http://www.cabiatl.com/mricro/mricron/dcm2nii.html\">dcm2nii</a></li>\n",
    "<li><a href=\"http://www.trackvis.org/dtk\">Diffusion Toolkit</a></li>\n",
    "</ul>\n",
    "</td>\n",
    "<td>\n",
    "<ul>\n",
    "<li><a href=\"http://freesurfer.net\">FreeSurfer</a></li>\n",
    "<li><a href=\"http://www.fmrib.ox.ac.uk/fsl\">FSL</a></li>\n",
    "<li><a href=\"http://www.brain.org.au/software/mrtrix/index.html\">MRtrx</a></li>\n",
    "<li><a href=\"http://nipy.org/nipy\">Nipy</a></li>\n",
    "<li><a href=\"http://nipy.org/nitime\">Nitime</a></li>\n",
    "<li><a href=\"http://github.com/pyxnat\">PyXNAT</a></li>\n",
    "<li><a href=\"http://www.slicer.org\">Slicer</a></li>\n",
    "<li><a href=\"http://www.fil.ion.ucl.ac.uk/spm\">SPM</a></li>\n",
    "</ul>\n",
    "</td>\n",
    "</tr>\n",
    "</table>\n",
    "\n",
    "Most used/contributed policy!\n",
    "\n",
    "Not all components of these packages are available."
   ]
  },
  {
   "cell_type": "markdown",
   "metadata": {
    "slideshow": {
     "slide_type": "skip"
    }
   },
   "source": [
    "# Workflows\n",
    "\n",
    "- Properties:\n",
    "\n",
    "    - processing pipeline is a directed acyclic graph (DAG)\n",
    "    - nodes are processes\n",
    "    - edges represent data flow\n",
    "    - compact represenation for any process\n",
    "    - code and data separation"
   ]
  },
  {
   "cell_type": "markdown",
   "metadata": {
    "slideshow": {
     "slide_type": "subslide"
    }
   },
   "source": [
    "# Execution Plugins\n",
    "\n",
    "Allows seamless execution across many architectures\n",
    "\n",
    "  - Local\n",
    "\n",
    "    - Serial\n",
    "    - Multicore\n",
    "\n",
    "  - Clusters\n",
    "\n",
    "    - HTCondor\n",
    "    - PBS/Torque/SGE/LSF (native and via IPython)\n",
    "    - SSH (via IPython)\n",
    "    - Soma Workflow"
   ]
  },
  {
   "cell_type": "markdown",
   "metadata": {
    "slideshow": {
     "slide_type": "slide"
    }
   },
   "source": [
    "# Learn Nipype concepts in 10 easy steps\n",
    "\n",
    "\n",
    "1. Installing and testing the installation \n",
    "2. Working with interfaces\n",
    "3. Using Nipype caching\n",
    "4. Creating Nodes, MapNodes and Workflows\n",
    "5. Getting and saving data\n",
    "6. Using Iterables\n",
    "7. Function nodes\n",
    "8. Distributed computation\n",
    "9. Connecting to databases\n",
    "10. Execution configuration options"
   ]
  },
  {
   "cell_type": "markdown",
   "metadata": {
    "slideshow": {
     "slide_type": "slide"
    }
   },
   "source": [
    "# Step 1. Installing Nipype\n",
    "\n",
    "## Python environment:\n",
    "\n",
    "* Debian/Ubuntu/Scientific Fedora\n",
    "* [Canopy from Enthought](https://www.enthought.com/products/canopy/)\n",
    "* [Anaconda from Contnuum Analytics](https://store.continuum.io/cshop/anaconda/)"
   ]
  },
  {
   "cell_type": "markdown",
   "metadata": {
    "slideshow": {
     "slide_type": "subslide"
    }
   },
   "source": [
    "## Installing Nipype:\n",
    "\n",
    "* Available from [@NeuroDebian](http://neuro.debian.net/pkgs/python-nipype.html),\n",
    "  [@PyPI](http://pypi.python.org/pypi/nipype/), and\n",
    "  [@GitHub](http://github.com/nipy/nipype)\n",
    "  \n",
    "      - pip install nipype\n",
    "      - easy_install nipype\n",
    "      - sudo apt-get install python-nipype\n",
    "\n",
    "* Dependencies: networkx, nibabel, numpy, scipy, traits"
   ]
  },
  {
   "cell_type": "markdown",
   "metadata": {
    "slideshow": {
     "slide_type": "subslide"
    }
   },
   "source": [
    "## Running Nipype ([Quickstart](http://nipy.org/nipype/quickstart.html)):\n",
    "\n",
    "* Ensure underlying tools are installed and accessible\n",
    "* Nipype **is a wrapper, not a substitute** for AFNI, ANTS, FreeSurfer, FSL, SPM,\n",
    "  NiPy, etc.,."
   ]
  },
  {
   "cell_type": "markdown",
   "metadata": {
    "slideshow": {
     "slide_type": "slide"
    }
   },
   "source": [
    "# Step 2. Testing nipype"
   ]
  },
  {
   "cell_type": "markdown",
   "metadata": {
    "slideshow": {
     "slide_type": "subslide"
    }
   },
   "source": [
    "```\n",
    "$ jupyter notebook\n",
    "```"
   ]
  },
  {
   "cell_type": "code",
   "execution_count": null,
   "metadata": {
    "collapsed": false,
    "slideshow": {
     "slide_type": "subslide"
    }
   },
   "outputs": [],
   "source": [
    "import nipype\n",
    "\n",
    "# Comment the following section to increase verbosity of output\n",
    "nipype.config.set('logging', 'workflow_level', 'CRITICAL')\n",
    "nipype.config.set('logging', 'interface_level', 'CRITICAL')\n",
    "nipype.logging.update_logging(nipype.config)\n",
    "\n",
    "nipype.test(verbose=0) # Increase verbosity parameter for more info"
   ]
  },
  {
   "cell_type": "code",
   "execution_count": 4,
   "metadata": {
    "collapsed": false,
    "slideshow": {
     "slide_type": "subslide"
    }
   },
   "outputs": [
    {
     "data": {
      "text/plain": [
       "{'commit_hash': b'fbeba07',\n",
       " 'commit_source': 'repository',\n",
       " 'networkx_version': '1.11',\n",
       " 'nibabel_version': '2.0.2',\n",
       " 'numpy_version': '1.11.0',\n",
       " 'pkg_path': '/Users/alexandre/Software/nipype/nipype',\n",
       " 'scipy_version': '0.17.0',\n",
       " 'sys_executable': '/Users/alexandre/envs/pytre/bin/python',\n",
       " 'sys_platform': 'darwin',\n",
       " 'sys_version': '3.5.1 (default, Dec 30 2015, 14:44:33) \\n[GCC 4.2.1 Compatible Apple LLVM 7.0.2 (clang-700.1.81)]',\n",
       " 'traits_version': '4.5.0'}"
      ]
     },
     "execution_count": 4,
     "metadata": {},
     "output_type": "execute_result"
    }
   ],
   "source": [
    "nipype.get_info()"
   ]
  },
  {
   "cell_type": "markdown",
   "metadata": {
    "slideshow": {
     "slide_type": "slide"
    }
   },
   "source": [
    "# Step 3: Environment and setup"
   ]
  },
  {
   "cell_type": "code",
   "execution_count": 28,
   "metadata": {
    "ExecuteTime": {
     "end_time": "2016-05-29T15:37:52.448576",
     "start_time": "2016-05-29T15:37:52.278607"
    },
    "collapsed": false,
    "slideshow": {
     "slide_type": "fragment"
    }
   },
   "outputs": [],
   "source": [
    "%matplotlib inline\n",
    "\n",
    "import os\n",
    "\n",
    "import numpy as np\n",
    "import matplotlib.pyplot as plt"
   ]
  },
  {
   "cell_type": "code",
   "execution_count": 30,
   "metadata": {
    "ExecuteTime": {
     "end_time": "2016-05-29T15:39:09.500688",
     "start_time": "2016-05-29T15:39:09.481169"
    },
    "collapsed": false,
    "scrolled": false,
    "slideshow": {
     "slide_type": "subslide"
    }
   },
   "outputs": [
    {
     "name": "stdout",
     "output_type": "stream",
     "text": [
      "['/Users/alexandre/nipype-tutorial/ds107/sub001/BOLD/task001_run001/bold.nii.gz', '/Users/alexandre/nipype-tutorial/ds107/sub001/BOLD/task001_run002/bold.nii.gz', '/Users/alexandre/nipype-tutorial/ds107/sub044/BOLD/task001_run001/bold.nii.gz', '/Users/alexandre/nipype-tutorial/ds107/sub044/BOLD/task001_run002/bold.nii.gz', '/Users/alexandre/nipype-tutorial/ds107/sub001/anatomy/highres001.nii.gz', '/Users/alexandre/nipype-tutorial/ds107/sub044/anatomy/highres001.nii.gz']\n"
     ]
    }
   ],
   "source": [
    "# download the files from: https://github.com/Neurita/nipype-tutorial-data/archive/master.zip\n",
    "import os.path as op\n",
    "\n",
    "tutorial_dir = '/Users/alexandre/nipype-tutorial'\n",
    "\n",
    "data_dir = op.join(tutorial_dir, 'ds107')\n",
    "\n",
    "required_files = [op.join(data_dir, 'sub001', 'BOLD',    'task001_run001', 'bold.nii.gz'),\n",
    "                  op.join(data_dir, 'sub001', 'BOLD',    'task001_run002', 'bold.nii.gz'),\n",
    "                  op.join(data_dir, 'sub044', 'BOLD',    'task001_run001', 'bold.nii.gz'),\n",
    "                  op.join(data_dir, 'sub044', 'BOLD',    'task001_run002', 'bold.nii.gz'),\n",
    "                  op.join(data_dir, 'sub001', 'anatomy', 'highres001.nii.gz'),\n",
    "                  op.join(data_dir, 'sub044', 'anatomy', 'highres001.nii.gz'),\n",
    "                 ]\n",
    "\n",
    "print(required_files)"
   ]
  },
  {
   "cell_type": "markdown",
   "metadata": {
    "slideshow": {
     "slide_type": "slide"
    }
   },
   "source": [
    "# Step 4. Working with interfaces"
   ]
  },
  {
   "cell_type": "code",
   "execution_count": 31,
   "metadata": {
    "ExecuteTime": {
     "end_time": "2016-05-29T15:39:11.043343",
     "start_time": "2016-05-29T15:39:11.029438"
    },
    "collapsed": false,
    "slideshow": {
     "slide_type": "fragment"
    }
   },
   "outputs": [],
   "source": [
    "import nipype.algorithms"
   ]
  },
  {
   "cell_type": "code",
   "execution_count": 32,
   "metadata": {
    "ExecuteTime": {
     "end_time": "2016-05-29T15:39:12.722787",
     "start_time": "2016-05-29T15:39:12.707302"
    },
    "collapsed": false,
    "slideshow": {
     "slide_type": "fragment"
    }
   },
   "outputs": [],
   "source": [
    "from nipype.interfaces.fsl import DTIFit\n",
    "from nipype.interfaces.spm import Realign"
   ]
  },
  {
   "cell_type": "markdown",
   "metadata": {
    "slideshow": {
     "slide_type": "subslide"
    }
   },
   "source": [
    "### Finding interface inputs and outputs and examples"
   ]
  },
  {
   "cell_type": "code",
   "execution_count": 33,
   "metadata": {
    "ExecuteTime": {
     "end_time": "2016-05-29T15:39:13.795164",
     "start_time": "2016-05-29T15:39:13.771549"
    },
    "collapsed": false,
    "slideshow": {
     "slide_type": "fragment"
    }
   },
   "outputs": [
    {
     "name": "stdout",
     "output_type": "stream",
     "text": [
      "Wraps command **dtifit**\n",
      "\n",
      "Use FSL  dtifit command for fitting a diffusion tensor model at each\n",
      "voxel\n",
      "\n",
      "Example\n",
      "-------\n",
      "\n",
      ">>> from nipype.interfaces import fsl\n",
      ">>> dti = fsl.DTIFit()\n",
      ">>> dti.inputs.dwi = 'diffusion.nii'\n",
      ">>> dti.inputs.bvecs = 'bvecs'\n",
      ">>> dti.inputs.bvals = 'bvals'\n",
      ">>> dti.inputs.base_name = 'TP'\n",
      ">>> dti.inputs.mask = 'mask.nii'\n",
      ">>> dti.cmdline\n",
      "'dtifit -k diffusion.nii -o TP -m mask.nii -r bvecs -b bvals'\n",
      "\n",
      "Inputs::\n",
      "\n",
      "\t[Mandatory]\n",
      "\tbvals: (an existing file name)\n",
      "\t\tb values file\n",
      "\t\tflag: -b %s, position: 4\n",
      "\tbvecs: (an existing file name)\n",
      "\t\tb vectors file\n",
      "\t\tflag: -r %s, position: 3\n",
      "\tdwi: (an existing file name)\n",
      "\t\tdiffusion weighted image data file\n",
      "\t\tflag: -k %s, position: 0\n",
      "\tmask: (an existing file name)\n",
      "\t\tbet binary mask file\n",
      "\t\tflag: -m %s, position: 2\n",
      "\n",
      "\t[Optional]\n",
      "\targs: (a string)\n",
      "\t\tAdditional parameters to the command\n",
      "\t\tflag: %s\n",
      "\tbase_name: (a string, nipype default value: dtifit_)\n",
      "\t\tbase_name that all output files will start with\n",
      "\t\tflag: -o %s, position: 1\n",
      "\tcni: (an existing file name)\n",
      "\t\tinput counfound regressors\n",
      "\t\tflag: --cni=%s\n",
      "\tenviron: (a dictionary with keys which are a value of class 'str' and\n",
      "\t\t with values which are a value of class 'str', nipype default value:\n",
      "\t\t {})\n",
      "\t\tEnvironment variables\n",
      "\tgradnonlin: (an existing file name)\n",
      "\t\tgradient non linearities\n",
      "\t\tflag: --gradnonlin=%s\n",
      "\tignore_exception: (a boolean, nipype default value: False)\n",
      "\t\tPrint an error message instead of throwing an exception in case the\n",
      "\t\tinterface fails to run\n",
      "\tlittle_bit: (a boolean)\n",
      "\t\tonly process small area of brain\n",
      "\t\tflag: --littlebit\n",
      "\tmax_x: (an integer (int or long))\n",
      "\t\tmax x\n",
      "\t\tflag: -X %d\n",
      "\tmax_y: (an integer (int or long))\n",
      "\t\tmax y\n",
      "\t\tflag: -Y %d\n",
      "\tmax_z: (an integer (int or long))\n",
      "\t\tmax z\n",
      "\t\tflag: -Z %d\n",
      "\tmin_x: (an integer (int or long))\n",
      "\t\tmin x\n",
      "\t\tflag: -x %d\n",
      "\tmin_y: (an integer (int or long))\n",
      "\t\tmin y\n",
      "\t\tflag: -y %d\n",
      "\tmin_z: (an integer (int or long))\n",
      "\t\tmin z\n",
      "\t\tflag: -z %d\n",
      "\toutput_type: ('NIFTI_GZ' or 'NIFTI_PAIR_GZ' or 'NIFTI' or\n",
      "\t\t 'NIFTI_PAIR')\n",
      "\t\tFSL output type\n",
      "\tsave_tensor: (a boolean)\n",
      "\t\tsave the elements of the tensor\n",
      "\t\tflag: --save_tensor\n",
      "\tsse: (a boolean)\n",
      "\t\toutput sum of squared errors\n",
      "\t\tflag: --sse\n",
      "\tterminal_output: ('stream' or 'allatonce' or 'file' or 'none')\n",
      "\t\tControl terminal output: `stream` - displays to terminal immediately\n",
      "\t\t(default), `allatonce` - waits till command is finished to display\n",
      "\t\toutput, `file` - writes output to file, `none` - output is ignored\n",
      "\n",
      "Outputs::\n",
      "\n",
      "\tFA: (an existing file name)\n",
      "\t\tpath/name of file with the fractional anisotropy\n",
      "\tL1: (an existing file name)\n",
      "\t\tpath/name of file with the 1st eigenvalue\n",
      "\tL2: (an existing file name)\n",
      "\t\tpath/name of file with the 2nd eigenvalue\n",
      "\tL3: (an existing file name)\n",
      "\t\tpath/name of file with the 3rd eigenvalue\n",
      "\tMD: (an existing file name)\n",
      "\t\tpath/name of file with the mean diffusivity\n",
      "\tMO: (an existing file name)\n",
      "\t\tpath/name of file with the mode of anisotropy\n",
      "\tS0: (an existing file name)\n",
      "\t\tpath/name of file with the raw T2 signal with no diffusion weighting\n",
      "\tV1: (an existing file name)\n",
      "\t\tpath/name of file with the 1st eigenvector\n",
      "\tV2: (an existing file name)\n",
      "\t\tpath/name of file with the 2nd eigenvector\n",
      "\tV3: (an existing file name)\n",
      "\t\tpath/name of file with the 3rd eigenvector\n",
      "\ttensor: (an existing file name)\n",
      "\t\tpath/name of file with the 4D tensor volume\n",
      "\n"
     ]
    }
   ],
   "source": [
    "DTIFit.help()"
   ]
  },
  {
   "cell_type": "code",
   "execution_count": null,
   "metadata": {
    "collapsed": false,
    "slideshow": {
     "slide_type": "subslide"
    }
   },
   "outputs": [],
   "source": [
    "Realign.help()"
   ]
  },
  {
   "cell_type": "markdown",
   "metadata": {
    "slideshow": {
     "slide_type": "subslide"
    }
   },
   "source": [
    "### Creating a directory for running interfaces"
   ]
  },
  {
   "cell_type": "code",
   "execution_count": 34,
   "metadata": {
    "ExecuteTime": {
     "end_time": "2016-05-29T15:39:29.780369",
     "start_time": "2016-05-29T15:39:29.764543"
    },
    "collapsed": false,
    "slideshow": {
     "slide_type": "fragment"
    }
   },
   "outputs": [],
   "source": [
    "import os\n",
    "\n",
    "library_dir = os.path.join(tutorial_dir, 'results')\n",
    "if not os.path.exists(library_dir):\n",
    "    os.mkdir(library_dir)\n",
    "os.chdir(library_dir)"
   ]
  },
  {
   "cell_type": "code",
   "execution_count": 35,
   "metadata": {
    "ExecuteTime": {
     "end_time": "2016-05-29T15:39:30.692698",
     "start_time": "2016-05-29T15:39:30.676225"
    },
    "collapsed": false,
    "slideshow": {
     "slide_type": "fragment"
    }
   },
   "outputs": [
    {
     "name": "stdout",
     "output_type": "stream",
     "text": [
      "/Users/alexandre/nipype-tutorial/ds107/sub001/BOLD/task001_run001/bold.nii.gz\n"
     ]
    }
   ],
   "source": [
    "# pick a demo file\n",
    "demo_file = required_files[0]\n",
    "print(demo_file)"
   ]
  },
  {
   "cell_type": "code",
   "execution_count": 37,
   "metadata": {
    "ExecuteTime": {
     "end_time": "2016-05-29T15:39:36.720926",
     "start_time": "2016-05-29T15:39:36.707100"
    },
    "collapsed": false,
    "slideshow": {
     "slide_type": "fragment"
    }
   },
   "outputs": [
    {
     "name": "stdout",
     "output_type": "stream",
     "text": [
      "/Users/alexandre/nipype-tutorial/results\n"
     ]
    }
   ],
   "source": [
    "# check the current folder\n",
    "print(op.abspath('.'))"
   ]
  },
  {
   "cell_type": "markdown",
   "metadata": {
    "slideshow": {
     "slide_type": "subslide"
    }
   },
   "source": [
    "## Executing interfaces"
   ]
  },
  {
   "cell_type": "code",
   "execution_count": 38,
   "metadata": {
    "ExecuteTime": {
     "end_time": "2016-05-29T15:39:39.220927",
     "start_time": "2016-05-29T15:39:38.652396"
    },
    "collapsed": false,
    "slideshow": {
     "slide_type": "fragment"
    }
   },
   "outputs": [],
   "source": [
    "from nipype.algorithms.misc import Gunzip\n",
    "\n",
    "convert = Gunzip()\n",
    "convert.inputs.in_file = demo_file\n",
    "results = convert.run()"
   ]
  },
  {
   "cell_type": "code",
   "execution_count": 39,
   "metadata": {
    "ExecuteTime": {
     "end_time": "2016-05-29T15:39:40.691639",
     "start_time": "2016-05-29T15:39:40.675676"
    },
    "collapsed": false,
    "slideshow": {
     "slide_type": "fragment"
    }
   },
   "outputs": [
    {
     "data": {
      "text/plain": [
       "\n",
       "out_file = /Users/alexandre/nipype-tutorial/results/bold.nii"
      ]
     },
     "execution_count": 39,
     "metadata": {},
     "output_type": "execute_result"
    }
   ],
   "source": [
    "results.outputs"
   ]
  },
  {
   "cell_type": "markdown",
   "metadata": {
    "slideshow": {
     "slide_type": "subslide"
    }
   },
   "source": [
    "## Other ways"
   ]
  },
  {
   "cell_type": "code",
   "execution_count": 40,
   "metadata": {
    "ExecuteTime": {
     "end_time": "2016-05-29T15:39:45.231323",
     "start_time": "2016-05-29T15:39:44.787818"
    },
    "collapsed": false,
    "slideshow": {
     "slide_type": "fragment"
    }
   },
   "outputs": [
    {
     "name": "stdout",
     "output_type": "stream",
     "text": [
      "/Users/alexandre/nipype-tutorial/results/bold.nii\n"
     ]
    }
   ],
   "source": [
    "from nipype.algorithms.misc import Gunzip\n",
    "\n",
    "convert = Gunzip()\n",
    "convert.inputs.in_file = demo_file\n",
    "results = convert.run()\n",
    "\n",
    "uzip_bold = results.outputs.out_file\n",
    "print(uzip_bold)"
   ]
  },
  {
   "cell_type": "code",
   "execution_count": 41,
   "metadata": {
    "ExecuteTime": {
     "end_time": "2016-05-29T15:39:54.704672",
     "start_time": "2016-05-29T15:39:54.074751"
    },
    "collapsed": false,
    "slideshow": {
     "slide_type": "fragment"
    }
   },
   "outputs": [
    {
     "name": "stdout",
     "output_type": "stream",
     "text": [
      "\n",
      "out_file = /Users/alexandre/nipype-tutorial/results/bold.nii\n",
      "\n"
     ]
    }
   ],
   "source": [
    "convert = Gunzip()\n",
    "results = convert.run(in_file=demo_file)\n",
    "\n",
    "print(results.outputs)"
   ]
  },
  {
   "cell_type": "code",
   "execution_count": 13,
   "metadata": {
    "ExecuteTime": {
     "end_time": "2016-05-27T20:13:19.389632",
     "start_time": "2016-05-27T20:13:19.375187"
    },
    "collapsed": false,
    "slideshow": {
     "slide_type": "subslide"
    }
   },
   "outputs": [
    {
     "data": {
      "text/plain": [
       "\n",
       "ignore_exception = False\n",
       "in_file = /Users/alexandre/nipype-tutorial/ds107/sub001/BOLD/task001_run001/bold.nii.gz"
      ]
     },
     "execution_count": 13,
     "metadata": {},
     "output_type": "execute_result"
    }
   ],
   "source": [
    "convert.inputs"
   ]
  },
  {
   "cell_type": "markdown",
   "metadata": {
    "slideshow": {
     "slide_type": "subslide"
    }
   },
   "source": [
    "#### Look at only the defined inputs"
   ]
  },
  {
   "cell_type": "code",
   "execution_count": 14,
   "metadata": {
    "ExecuteTime": {
     "end_time": "2016-05-27T20:13:54.758982",
     "start_time": "2016-05-27T20:13:54.744707"
    },
    "collapsed": false,
    "slideshow": {
     "slide_type": "fragment"
    }
   },
   "outputs": [
    {
     "data": {
      "text/plain": [
       "{'ignore_exception': False,\n",
       " 'in_file': '/Users/alexandre/nipype-tutorial/ds107/sub001/BOLD/task001_run001/bold.nii.gz'}"
      ]
     },
     "execution_count": 14,
     "metadata": {},
     "output_type": "execute_result"
    }
   ],
   "source": [
    "results.inputs"
   ]
  },
  {
   "cell_type": "markdown",
   "metadata": {
    "slideshow": {
     "slide_type": "subslide"
    }
   },
   "source": [
    "### Experiment with other interfaces\n",
    "\n",
    "For example, run realignment with SPM"
   ]
  },
  {
   "cell_type": "code",
   "execution_count": 43,
   "metadata": {
    "ExecuteTime": {
     "end_time": "2016-05-29T15:46:06.143724",
     "start_time": "2016-05-29T15:44:57.738571"
    },
    "collapsed": false,
    "slideshow": {
     "slide_type": "fragment"
    }
   },
   "outputs": [],
   "source": [
    "from nipype.interfaces.spm import Realign\n",
    "\n",
    "realign = Realign(in_files=uzip_bold, register_to_mean=False)\n",
    "results1 = realign.run()\n",
    "#print(os.listdir())"
   ]
  },
  {
   "cell_type": "markdown",
   "metadata": {
    "slideshow": {
     "slide_type": "subslide"
    }
   },
   "source": [
    "And now use FSL"
   ]
  },
  {
   "cell_type": "code",
   "execution_count": 44,
   "metadata": {
    "ExecuteTime": {
     "end_time": "2016-05-29T15:46:33.072074",
     "start_time": "2016-05-29T15:46:06.145653"
    },
    "collapsed": false,
    "slideshow": {
     "slide_type": "fragment"
    }
   },
   "outputs": [],
   "source": [
    "from nipype.interfaces.fsl import MCFLIRT\n",
    "\n",
    "mcflirt = MCFLIRT(in_file=uzip_bold, ref_vol=0, save_plots=True)\n",
    "\n",
    "results2 = mcflirt.run()"
   ]
  },
  {
   "cell_type": "markdown",
   "metadata": {
    "slideshow": {
     "slide_type": "subslide"
    }
   },
   "source": [
    "### Now we can look at some results"
   ]
  },
  {
   "cell_type": "code",
   "execution_count": 36,
   "metadata": {
    "collapsed": false,
    "slideshow": {
     "slide_type": "fragment"
    }
   },
   "outputs": [
    {
     "name": "stdout",
     "output_type": "stream",
     "text": [
      "51.40525 32.69443\n"
     ]
    }
   ],
   "source": [
    "print('SPM realign execution time:', results1.runtime.duration)\n",
    "print('Flirt execution time:', results2.runtime.duration)"
   ]
  },
  {
   "cell_type": "code",
   "execution_count": 48,
   "metadata": {
    "ExecuteTime": {
     "end_time": "2016-05-29T15:49:06.671736",
     "start_time": "2016-05-29T15:49:05.935992"
    },
    "collapsed": false,
    "slideshow": {
     "slide_type": "subslide"
    }
   },
   "outputs": [
    {
     "name": "stdout",
     "output_type": "stream",
     "text": [
      "bold.mat            bold_mcf.nii.gz     meanbold.nii        rbold.nii\n",
      "bold.nii            bold_mcf.nii.gz.par pyscript_realign.m  rp_bold.txt\n",
      "data_type      INT16\n",
      "dim1           64\n",
      "dim2           64\n",
      "dim3           35\n",
      "dim4           164\n",
      "datatype       4\n",
      "pixdim1        3.000000\n",
      "pixdim2        3.000000\n",
      "pixdim3        3.000000\n",
      "pixdim4        3.000000\n",
      "cal_max        0.0000\n",
      "cal_min        0.0000\n",
      "file_type      NIFTI-1+\n",
      "0  -0  0  0  0  0  \n",
      "-0.000648031  -6.80307e-05  0.000233637  0.0172324  -0.011007  0.0299689  \n",
      "-0.000648031  -0.000384255  0.000525166  0.0221569  -0.00310645  0.0299601  \n",
      "-0.000537742  -0.000213411  0.000675624  0.0164069  -0.00310852  0.0540617  \n",
      "-0.000485945  -0.000443529  0.000675624  0.0233628  -0.00310753  0.0515571  \n",
      "-0.000713941  -4.71689e-05  0.000675624  0.0185578  -0.0209441  0.0540576  \n",
      "-0.00134132  -0.000368914  1.40026e-05  -0.00727328  0.00322092  0.0696141  \n",
      "-0.00134132  -0.000443529  1.40026e-05  -0.00769971  -0.0215257  0.0484619  \n",
      "-0.00177979  -0.00057554  -0.00039095  -0.0185175  0.000717472  0.0782566  \n",
      "-0.00174227  -0.000602118  -0.000273836  -0.026563  -0.0231801  0.0893012  \n",
      "-0.00189562  -0.000773365  -0.000442515  -0.0220809  -0.00992513  0.0877945  \n",
      "-0.00197001  -0.000981862  -0.000452038  -0.0313417  -0.0231963  0.09697  \n",
      "-0.00197001  -0.00123776  -0.000432048  -0.0179202  0.000562458  0.103887  \n",
      "-0.0020451  -0.00123295  -0.000416925  -0.0179359  0.00868513  0.103891  \n",
      "-0.0024408  -0.00137755  -0.000473275  -0.0179408  0.000525663  0.115768  \n",
      "-0.00207883  -0.00137755  -0.00041182  -0.0179213  -0.00231937  0.121093  \n",
      "-0.00214197  -0.00137755  -0.000585361  -0.0271888  0.000529654  0.103909  \n",
      "-0.0020506  -0.00143763  -0.000685392  -0.0355295  0.000542326  0.107176  \n",
      "-0.00200531  -0.00186246  -0.000688311  -0.0345114  -0.00393885  0.137953  \n",
      "-0.00193013  -0.00186246  -0.000585361  -0.0178968  7.6944e-05  0.147711  \n",
      "-0.0024408  -0.00186246  -0.000585361  -0.0114255  0.00267362  0.136166  \n",
      "-0.0024408  -0.00224854  -0.000659947  0.00316795  3.41878e-05  0.158576  \n",
      "-0.00191346  -0.00186246  -0.000529187  -0.0178971  0.0195162  0.158586  \n",
      "-0.000867569  -0.0022732  -0.000585361  -0.0178691  -0.0173949  0.145398  \n",
      "-0.002162  -0.00200945  -0.000585361  -0.0178997  0.00181581  0.185335  \n",
      "-0.00221511  -0.00233878  -0.000585361  0.000933661  0.0185651  0.220762  \n",
      "-0.00282951  -0.00233878  -0.000262259  -0.00516718  -0.00117484  0.239309  \n",
      "-0.00298955  -0.00233646  -0.000113495  0.00404857  -0.00650937  0.25584  \n",
      "-0.00333767  -0.00264748  0.000189539  0.0295328  -0.00126543  0.277892  \n",
      "-0.00340314  -0.00276428  0.000220181  0.0342786  -0.00127839  0.293125  \n",
      "-0.00378527  -0.00276428  0.000103392  0.0395581  -0.00133553  0.271431  \n",
      "-0.00413901  -0.00265273  0.00021096  0.0342485  0.0144438  0.263382  \n",
      "-0.00407179  -0.00263205  0.000225567  0.034284  -0.00139715  0.264772  \n",
      "-0.00390828  -0.00276428  4.29208e-06  0.0342959  -0.0194981  0.239354  \n",
      "-0.00392429  -0.00276428  -0.000141989  0.0280029  -0.0066876  0.255358  \n",
      "-0.00357232  -0.00284399  -0.000488067  0.0167271  -0.019441  0.247849  \n",
      "-0.00314524  -0.00299634  9.39482e-05  0.0623041  0.0132893  0.271479  \n",
      "-0.00274308  -0.00338827  0.000122301  0.0623548  -0.00706818  0.275725  \n",
      "-0.00294514  -0.00367612  0.000225253  0.0623796  -0.0071158  0.289407  \n",
      "-0.00300618  -0.00378055  0.000194818  0.0799731  0.00666649  0.298655  \n",
      "-0.00279371  -0.00420707  1.87201e-05  0.0926068  0.0121676  0.292538  \n",
      "-0.00266179  -0.0045453  0.0002077  0.0993838  0.0158051  0.306031  \n",
      "-0.00259066  -0.00434959  0.000129676  0.109483  0.0101185  0.306057  \n",
      "-0.00283023  -0.0044853  0.000130499  0.115446  0.00662743  0.310839  \n",
      "-0.00283023  -0.00459889  0.000227268  0.120003  0.0148419  0.311047  \n",
      "-0.00283023  -0.00459033  0.000226882  0.134566  -8.62201e-05  0.306034  \n",
      "-0.00283023  -0.00485603  0.000676555  0.150112  0.00668223  0.294623  \n",
      "-0.00195744  -0.00485603  -6.13082e-05  0.114638  0.0100787  0.30596  \n",
      "-0.00155947  -0.00485603  0.000181004  0.131432  0.010163  0.310483  \n",
      "-0.00198098  -0.00548523  0.000771018  0.159675  0.00999502  0.305853  \n",
      "-0.00195488  -0.00548523  0.000576732  0.150557  0.00777  0.323763  \n",
      "-0.00220592  -0.00574571  0.000771018  0.147351  0.00944537  0.351384  \n",
      "-0.00261081  -0.00618387  0.000771018  0.159847  0.0338023  0.38182  \n",
      "-0.00240068  -0.00625456  0.000929938  0.159876  0.0337124  0.38563  \n",
      "-0.00265803  -0.00651453  0.000796437  0.17053  0.0143757  0.391227  \n",
      "-0.00379069  -0.00670426  0.000978918  0.184039  0.0114949  0.416401  \n",
      "-0.00367708  -0.00670426  0.00124646  0.192947  0.00878098  0.413831  \n",
      "-0.003647  -0.00696073  0.00128291  0.199822  0.0116874  0.398761  \n",
      "-0.00362834  -0.00675588  0.00119059  0.192941  0.0174788  0.404381  \n",
      "-0.00398316  -0.00668414  0.00110269  0.192942  0.00580324  0.380184  \n",
      "-0.00341188  -0.00659862  0.00133978  0.192948  0.0126984  0.367414  \n",
      "-0.00309243  -0.00668414  0.00133978  0.192969  0.0127881  0.380149  \n",
      "-0.0035182  -0.00713793  0.00141465  0.218868  0.00717236  0.417076  \n",
      "-0.00343782  -0.00691114  0.00150208  0.217142  0.0230089  0.406685  \n",
      "-0.0033467  -0.00722952  0.00142065  0.216816  0.000795165  0.415164  \n",
      "-0.00361048  -0.00663299  0.00150952  0.212216  -0.00343516  0.402474  \n",
      "-0.0035182  -0.00648493  0.00142065  0.207687  0.012306  0.406218  \n",
      "-0.00314248  -0.00663299  0.00145569  0.20428  0.00025415  0.389841  \n",
      "-0.00336083  -0.0066185  0.00146733  0.210019  -0.00712772  0.389826  \n",
      "-0.00298039  -0.0067864  0.00145661  0.210655  0.00147235  0.389778  \n",
      "-0.00239394  -0.00699305  0.00144833  0.21744  0.00669908  0.389723  \n",
      "-0.00252237  -0.0070877  0.00134474  0.205386  0.00607419  0.384684  \n",
      "-0.00238337  -0.00689397  0.00117434  0.200714  -0.00681186  0.354692  \n",
      "-0.0019644  -0.00690773  0.00118008  0.203423  0.011145  0.338649  \n",
      "-0.00189691  -0.0070877  0.00110244  0.201689  0.00136635  0.36064  \n",
      "-0.00166435  -0.0070877  0.00130305  0.215144  0.0209843  0.348259  \n",
      "-0.00213316  -0.00672544  0.00153364  0.219233  -0.000649884  0.333255  \n",
      "-0.0022227  -0.00667788  0.0019414  0.224227  0.0141399  0.338702  \n",
      "-0.00235355  -0.00697026  0.00152183  0.19983  0.0204139  0.352023  \n",
      "-0.00226307  -0.007101  0.00148364  0.206423  0.0196835  0.343881  \n",
      "-0.00182946  -0.00684641  0.00148376  0.210641  0.0193717  0.33864  \n",
      "-0.00231136  -0.00734192  0.0010764  0.204039  0.0194589  0.400291  \n",
      "-0.00287107  -0.00734483  0.00145586  0.204388  0.0141879  0.399432  \n",
      "-0.00294536  -0.00781072  0.0015519  0.227363  0.0114705  0.384767  \n",
      "-0.00239196  -0.0074063  0.00152782  0.207013  0.00976923  0.35843  \n",
      "-0.00241202  -0.0075947  0.00152782  0.219165  0.0120362  0.368343  \n",
      "-0.00218109  -0.00821514  0.00161111  0.224866  0.00526447  0.39622  \n",
      "-0.00202926  -0.00808956  0.0016119  0.227456  0.00974611  0.384387  \n",
      "-0.00260759  -0.00822753  0.0015532  0.237094  0.0192098  0.39842  \n",
      "-0.00260759  -0.00862479  0.00155479  0.239931  0.0109056  0.420617  \n",
      "-0.00260759  -0.00868212  0.00145791  0.227616  0.0146772  0.397553  \n",
      "-0.00230122  -0.00869488  0.00135557  0.227615  0.0216743  0.397541  \n",
      "-0.00140152  -0.00863737  0.00135557  0.221441  0.0118992  0.372535  \n",
      "-0.0014389  -0.00903848  0.00144515  0.243114  0.0100816  0.376961  \n",
      "-0.00164553  -0.00945298  0.00176454  0.271215  0.0221545  0.365036  \n",
      "-0.00153172  -0.0094838  0.00183986  0.282898  0.0135014  0.378396  \n",
      "-0.00157856  -0.00945107  0.00233511  0.293208  0.0156069  0.36114  \n",
      "-0.00165327  -0.00905714  0.00213265  0.29312  -0.00131112  0.356394  \n",
      "-0.00139194  -0.00947915  0.00218269  0.293217  0.0139749  0.372147  \n",
      "-0.00163617  -0.00912455  0.00193269  0.282656  0.0142696  0.326976  \n",
      "-0.00183893  -0.00905714  0.00193269  0.271708  0.00792137  0.327003  \n",
      "-0.00177667  -0.00858365  0.00133168  0.256096  0.00758056  0.327147  \n",
      "-0.00193745  -0.00887837  0.00146893  0.256958  0.0397567  0.341106  \n",
      "-0.00117881  -0.00905714  0.00147013  0.243326  0.0242137  0.310278  \n",
      "-0.000954704  -0.00905714  0.00131253  0.247695  0.0193559  0.326984  \n",
      "-0.00120443  -0.00928097  0.00180097  0.257449  0.023443  0.345306  \n",
      "-0.000870904  -0.00947919  0.00180097  0.263378  0.0119278  0.345969  \n",
      "-0.00109149  -0.00949699  0.00151546  0.273211  0.0454722  0.326851  \n",
      "-0.00110329  -0.0095865  0.00180097  0.280165  0.0136147  0.335702  \n",
      "-0.000982853  -0.00994492  0.00139505  0.273954  0.0320574  0.343208  \n",
      "-0.000818998  -0.00983353  0.00176518  0.269745  0.0101212  0.326755  \n",
      "-0.000564727  -0.00957944  0.00184016  0.271712  0.0188107  0.326834  \n",
      "0.000309882  -0.00948116  0.00133468  0.266448  0.0285431  0.340248  \n",
      "0.000443122  -0.00948116  0.00139586  0.270844  0.0596369  0.308164  \n",
      "0.000123991  -0.00948116  0.00182996  0.273475  0.0357393  0.30818  \n",
      "-0.000248592  -0.0101713  0.00182996  0.273946  0.0233993  0.306573  \n",
      "-0.000423246  -0.0100986  0.00138206  0.266373  0.0375577  0.293378  \n",
      "-0.00079007  -0.00943782  0.00207972  0.297892  0.0486114  0.284854  \n",
      "-0.00082456  -0.00909381  0.00254579  0.297874  0.0468249  0.230194  \n",
      "-0.00116096  -0.00920499  0.00239133  0.297865  0.0468187  0.223378  \n",
      "-0.00116096  -0.0093388  0.00233274  0.289851  0.0468342  0.230143  \n",
      "-0.00141434  -0.0093388  0.0022628  0.277371  0.0460361  0.243067  \n",
      "-0.00136569  -0.0093388  0.00213114  0.27885  0.0333136  0.230161  \n",
      "-0.00137393  -0.00988741  0.00222874  0.286887  0.0451126  0.241329  \n",
      "-0.00127608  -0.00968492  0.00213114  0.297918  0.0372889  0.235667  \n",
      "-0.00177693  -0.00980594  0.00266912  0.322421  0.0413373  0.23587  \n",
      "-0.00206172  -0.00991864  0.00266793  0.331628  0.0449173  0.259338  \n",
      "-0.00191706  -0.00992889  0.00292538  0.345556  0.0406334  0.247125  \n",
      "-0.00191722  -0.00964329  0.002911  0.344671  0.0516438  0.223485  \n",
      "-0.0023003  -0.00984449  0.0030926  0.361069  0.0401356  0.219025  \n",
      "-0.00189412  -0.00962236  0.00290486  0.349081  0.0296165  0.242942  \n",
      "-0.00137071  -0.00972768  0.00290486  0.348541  0.0510408  0.239752  \n",
      "-0.00181409  -0.00992889  0.00315574  0.363095  0.0487666  0.247151  \n",
      "-0.002085  -0.00962123  0.00349775  0.373536  0.050692  0.252412  \n",
      "-0.00261596  -0.00987652  0.00350957  0.392916  0.0529021  0.279393  \n",
      "-0.00261596  -0.0101768  0.003723  0.39721  0.0303516  0.309866  \n",
      "-0.00303645  -0.0104077  0.00408709  0.417733  0.0300827  0.292828  \n",
      "-0.00318552  -0.0101577  0.00408709  0.417673  0.0461926  0.329219  \n",
      "-0.00322842  -0.0104077  0.00408709  0.417733  0.0300399  0.331771  \n",
      "-0.00348728  -0.0104077  0.00366468  0.4008  0.042998  0.340314  \n",
      "-0.00331602  -0.0104077  0.00366468  0.398795  0.0302205  0.328136  \n",
      "-0.00291412  -0.0104077  0.00366468  0.38255  0.0357622  0.313314  \n",
      "-0.00315734  -0.00996599  0.00396277  0.402445  0.0189324  0.316782  \n",
      "-0.00326502  -0.00971134  0.00394798  0.402395  0.0275426  0.312763  \n",
      "-0.00313641  -0.00971134  0.0038281  0.402389  0.0340728  0.28639  \n",
      "-0.00295495  -0.00973966  0.00383539  0.402403  0.0341072  0.293122  \n",
      "-0.00324894  -0.00955393  0.00381537  0.402364  0.0340586  0.28647  \n",
      "-0.00346835  -0.00987932  0.0038854  0.402439  0.0256179  0.294511  \n",
      "-0.00333527  -0.00987932  0.00398028  0.404925  0.0243339  0.286316  \n",
      "-0.00333527  -0.00977985  0.00388976  0.402411  0.0245428  0.302844  \n",
      "-0.00362382  -0.0101217  0.00397538  0.398777  0.0482021  0.326885  \n",
      "-0.00373736  -0.00969556  0.00366469  0.377794  0.0145924  0.286436  \n",
      "-0.00373736  -0.00982597  0.00366469  0.383214  0.039209  0.281433  \n",
      "-0.00373736  -0.00981491  0.00366469  0.39158  0.039209  0.272082  \n",
      "-0.00360417  -0.00960327  0.00400733  0.398096  0.039068  0.266023  \n",
      "-0.00342957  -0.009413  0.00366469  0.411692  0.0417208  0.270922  \n",
      "-0.00298905  -0.00911278  0.00396532  0.397985  0.03919  0.261475  \n",
      "-0.00299327  -0.00927534  0.00408049  0.39803  0.0402672  0.243958  \n",
      "-0.00288916  -0.00973863  0.00387298  0.407733  0.0516868  0.268467  \n",
      "-0.00255916  -0.00973396  0.0039936  0.409449  0.0341704  0.294032  \n",
      "-0.00237164  -0.00992527  0.00404552  0.404861  0.0342793  0.268322  \n",
      "-0.0020655  -0.00991986  0.00390318  0.410156  0.0409325  0.268296  \n",
      "-0.00230979  -0.0100951  0.00401762  0.398135  0.0408331  0.274538  \n",
      "-0.00231116  -0.00976693  0.00396935  0.386487  0.0307988  0.22874  \n",
      "     164 bold_mcf.nii.gz.par\n",
      "   0.0000000e+00   0.0000000e+00   0.0000000e+00   0.0000000e+00   0.0000000e+00   0.0000000e+00\n",
      "  -1.8807540e-02  -1.9992003e-02   4.4480285e-02  -8.2109034e-04  -3.3518355e-04  -1.7881878e-04\n",
      "  -2.9379832e-02  -2.0190367e-02   4.5324498e-02  -8.6203713e-04  -3.7375069e-04  -3.2522068e-04\n",
      "  -2.4402193e-02  -3.3023112e-02   6.8122160e-02  -8.8148070e-04  -4.2252073e-04  -3.8591240e-04\n",
      "  -3.5961084e-02  -1.9341716e-02   6.1945148e-02  -5.8929972e-04  -3.5300384e-04  -3.9707274e-04\n",
      "  -2.4014516e-02  -2.9384475e-02   8.6038695e-02  -1.1348338e-03  -1.5849435e-04  -3.3842225e-04\n",
      "   5.4464241e-03  -1.5493970e-02   1.2023794e-01  -1.7862077e-03  -6.1302822e-04   8.7691617e-05\n",
      "   6.6382560e-03  -3.9606175e-02   8.9097102e-02  -1.8654187e-03  -8.5075936e-04   1.4977574e-04\n",
      "   2.3340990e-02  -2.5221903e-02   1.2618554e-01  -2.0837932e-03  -7.6287899e-04   4.2360612e-04\n",
      "   3.9404909e-02  -4.5811915e-02   1.5014888e-01  -2.1546068e-03  -1.0316028e-03   5.1826915e-04\n",
      "   3.1434941e-02  -3.6384660e-02   1.4488414e-01  -2.2756736e-03  -1.1749888e-03   6.9192162e-04\n",
      "   3.9841822e-02  -3.0321049e-02   1.5818081e-01  -2.4514724e-03  -1.5352472e-03   6.8036931e-04\n",
      "   2.5854620e-02  -2.9924409e-02   1.6556179e-01  -2.6792226e-03  -1.7379286e-03   6.2251583e-04\n",
      "   2.1856970e-02  -6.8956971e-03   1.5189214e-01  -2.5927159e-03  -1.7018223e-03   5.5102730e-04\n",
      "   2.2333037e-02  -7.7407732e-03   1.8852138e-01  -2.8747329e-03  -1.8887033e-03   6.5497473e-04\n",
      "   2.8382915e-02  -2.2515273e-02   1.9255219e-01  -2.4117946e-03  -1.7322666e-03   6.7760308e-04\n",
      "   3.7778752e-02  -1.1778276e-02   1.8777955e-01  -3.0315937e-03  -2.1960734e-03   8.9900476e-04\n",
      "   4.6518702e-02   1.3826253e-03   1.6869449e-01  -2.3753717e-03  -2.2671741e-03   1.0469836e-03\n",
      "   4.1967150e-02  -1.6179116e-02   2.0716941e-01  -2.4579983e-03  -2.8055401e-03   1.2556207e-03\n",
      "   2.5913785e-02  -2.0362556e-02   2.2861389e-01  -2.4909774e-03  -2.8702891e-03   1.2560700e-03\n",
      "   9.7845534e-03  -9.2942552e-03   2.1488460e-01  -2.8664125e-03  -2.9488260e-03   1.1983659e-03\n",
      "  -2.8047927e-03  -1.8603978e-02   2.3844398e-01  -2.9594620e-03  -3.1124519e-03   1.1691115e-03\n",
      "   1.1916049e-02   9.7471843e-03   2.2259537e-01  -2.5439256e-03  -2.8027243e-03   1.0370663e-03\n",
      "   3.3088895e-02  -1.3027673e-02   1.9860847e-01  -1.1710790e-03  -3.2074295e-03   1.2080728e-03\n",
      "   1.2811056e-02  -5.4181772e-05   2.6231564e-01  -2.5834145e-03  -3.2641809e-03   9.7150337e-04\n",
      "  -6.1675055e-03  -2.4422124e-03   3.2261080e-01  -2.8148593e-03  -3.5106777e-03   7.6059715e-04\n",
      "  -1.0788952e-02  -3.3917460e-02   3.5888893e-01  -3.6495257e-03  -3.5913580e-03   3.8153892e-04\n",
      "  -2.7212895e-02  -4.4569137e-02   3.8033801e-01  -3.9286731e-03  -3.6643530e-03   3.8748395e-04\n",
      "  -5.9434751e-02  -3.4091392e-02   4.2618621e-01  -4.3368398e-03  -4.1305989e-03  -1.6089432e-06\n",
      "  -7.2334048e-02  -4.1192307e-02   4.3945258e-01  -4.4356867e-03  -4.2004888e-03  -9.7614940e-05\n",
      "  -7.8372444e-02  -3.8118242e-02   4.2433558e-01  -4.8403451e-03  -4.0767812e-03  -6.3558340e-05\n",
      "  -6.8473274e-02  -2.1447071e-02   4.1286462e-01  -5.1484530e-03  -4.1688236e-03   2.7673430e-05\n",
      "  -6.9172465e-02  -4.9032458e-02   4.1389465e-01  -5.3862934e-03  -4.1724172e-03  -3.8432708e-05\n",
      "  -5.2351884e-02  -5.5894928e-02   3.8860699e-01  -5.2200691e-03  -4.1731926e-03   3.8933512e-04\n",
      "  -4.7853296e-02  -4.3734831e-02   3.9616658e-01  -4.9911901e-03  -4.0306871e-03   3.6337869e-04\n",
      "  -3.6811660e-02  -6.5063111e-02   3.9291812e-01  -4.9395472e-03  -4.4940112e-03   5.5161486e-04\n",
      "  -9.9022299e-02  -1.0189973e-02   3.8785864e-01  -3.6230590e-03  -4.6682026e-03   3.6293938e-04\n",
      "  -1.0738276e-01  -4.4132393e-02   3.9320538e-01  -3.4578733e-03  -5.1827078e-03   1.4580024e-04\n",
      "  -1.1545457e-01  -4.9446102e-02   4.1452988e-01  -3.9468494e-03  -5.7165189e-03   2.1938177e-04\n",
      "  -1.4063103e-01  -2.1007889e-02   4.2887944e-01  -3.6146190e-03  -5.8781983e-03  -2.0289218e-05\n",
      "  -1.5192891e-01  -1.0300818e-02   4.0894093e-01  -3.4504780e-03  -6.3797654e-03   2.5929694e-04\n",
      "  -1.6675953e-01  -1.2938625e-03   4.1544629e-01  -3.0538368e-03  -6.7561480e-03   2.4879104e-04\n",
      "  -1.7952786e-01  -4.7257718e-03   4.3695695e-01  -3.0339800e-03  -6.8548907e-03   1.8621220e-04\n",
      "  -1.9309207e-01  -1.5335337e-02   4.2373092e-01  -3.3110178e-03  -6.9045303e-03   1.5493168e-04\n",
      "  -2.0050712e-01  -1.6166367e-02   4.1931754e-01  -3.3101042e-03  -7.3108847e-03   5.4013032e-05\n",
      "  -2.2497374e-01  -1.8082890e-02   4.1765871e-01  -3.1530257e-03  -7.3697033e-03  -1.5066255e-04\n",
      "  -2.4030051e-01  -2.6919686e-02   4.0088925e-01  -3.2258266e-03  -7.6022974e-03  -3.6295642e-04\n",
      "  -1.6771217e-01  -1.1834073e-02   3.9181476e-01  -2.3050355e-03  -7.1201597e-03   6.3204087e-04\n",
      "  -2.1079787e-01  -1.6907612e-02   3.9522408e-01  -1.6913980e-03  -7.4544043e-03   1.3786301e-04\n",
      "  -2.4830863e-01  -1.3387990e-02   3.9846221e-01  -2.3886469e-03  -8.2758739e-03  -3.1822208e-04\n",
      "  -2.4678878e-01  -8.0890687e-03   4.1452591e-01  -2.2671272e-03  -8.3862009e-03  -1.9801023e-04\n",
      "  -2.4729296e-01  -6.7312035e-03   4.4213408e-01  -2.3400978e-03  -8.7412909e-03  -3.8330217e-04\n",
      "  -2.5763908e-01   2.1406348e-02   4.9605500e-01  -2.6606118e-03  -9.4546906e-03  -3.0649762e-04\n",
      "  -2.7501562e-01   2.5173797e-02   4.9297698e-01  -2.2592969e-03  -9.3154899e-03  -7.5713139e-04\n",
      "  -2.9929566e-01  -1.2482286e-02   5.3111642e-01  -3.6979387e-03  -9.8717109e-03  -9.6819234e-04\n",
      "  -3.1856299e-01  -1.9634141e-02   5.5010008e-01  -4.5087570e-03  -1.0056601e-02  -1.1665992e-03\n",
      "  -3.3045890e-01  -2.7377462e-02   5.5941054e-01  -4.6075261e-03  -9.9823099e-03  -1.2647274e-03\n",
      "  -3.4515996e-01  -1.8959714e-02   5.3670847e-01  -4.2048365e-03  -1.0248757e-02  -1.3583284e-03\n",
      "  -3.3951402e-01  -1.2872135e-02   5.3599478e-01  -4.0723213e-03  -1.0386483e-02  -1.2624775e-03\n",
      "  -3.3755341e-01  -2.5624888e-02   5.1575472e-01  -4.5272112e-03  -1.0160501e-02  -1.0830023e-03\n",
      "  -3.2258982e-01  -3.1269129e-02   4.8818599e-01  -4.1937008e-03  -9.9869285e-03  -1.0812365e-03\n",
      "  -3.4093488e-01  -2.2364739e-02   5.0470351e-01  -3.9298434e-03  -1.0142073e-02  -1.2312543e-03\n",
      "  -3.6339869e-01  -2.8241074e-02   5.5228380e-01  -3.9351445e-03  -1.0543530e-02  -1.3188380e-03\n",
      "  -3.7062544e-01  -1.3755169e-02   5.3665072e-01  -3.7548096e-03  -1.0319489e-02  -1.5587220e-03\n",
      "  -3.6752007e-01  -4.2331576e-02   5.5297874e-01  -3.8172436e-03  -1.0534360e-02  -1.4921874e-03\n",
      "  -3.6175684e-01  -4.5577152e-02   5.3972691e-01  -4.2335061e-03  -1.0045347e-02  -1.5288803e-03\n",
      "  -3.5083073e-01  -3.2821446e-02   5.4024752e-01  -4.1928999e-03  -9.7196529e-03  -1.3749730e-03\n",
      "  -3.4421623e-01  -4.2942656e-02   5.2568947e-01  -4.1090442e-03  -9.9771628e-03  -1.3198787e-03\n",
      "  -3.4971154e-01  -4.0532139e-02   5.1302961e-01  -3.7105014e-03  -1.0125343e-02  -1.3378268e-03\n",
      "  -3.5584794e-01  -3.9654894e-02   5.1425134e-01  -3.4620202e-03  -1.0101977e-02  -1.3524341e-03\n",
      "  -3.6313719e-01  -4.0875098e-02   4.9475010e-01  -2.8114756e-03  -1.0307637e-02  -1.3245577e-03\n",
      "  -3.5133797e-01  -3.4098212e-02   4.8173637e-01  -2.8090227e-03  -1.0490986e-02  -1.2530305e-03\n",
      "  -3.2823811e-01  -3.8685805e-02   4.4275756e-01  -2.6850615e-03  -1.0061032e-02  -9.4212239e-04\n",
      "  -3.3424870e-01  -1.8554361e-02   4.2245404e-01  -2.2383070e-03  -1.0300011e-02  -9.4037199e-04\n",
      "  -3.3297351e-01  -2.7812950e-02   4.3502326e-01  -1.8041934e-03  -1.0372609e-02  -9.8747359e-04\n",
      "  -3.6033769e-01  -1.5915669e-04   4.1984309e-01  -1.3676600e-03  -1.0827833e-02  -1.1944310e-03\n",
      "  -3.7433026e-01  -2.9159886e-02   4.1686479e-01  -2.4729287e-03  -1.0287078e-02  -1.6769357e-03\n",
      "  -3.7757225e-01  -7.7871974e-03   4.3787599e-01  -2.4516106e-03  -1.0112897e-02  -1.8368242e-03\n",
      "  -3.4919436e-01  -2.2661291e-02   4.4279986e-01  -2.7256141e-03  -1.0398396e-02  -1.3369418e-03\n",
      "  -3.5167888e-01   4.6043689e-04   4.3598616e-01  -2.7327792e-03  -1.0698002e-02  -1.3502558e-03\n",
      "  -3.5355483e-01   3.4810071e-03   4.3971026e-01  -2.1563156e-03  -1.0641377e-02  -1.2914670e-03\n",
      "  -3.3780712e-01   4.1952722e-03   4.9986258e-01  -2.5480049e-03  -1.1012657e-02  -1.0173003e-03\n",
      "  -3.4816327e-01  -2.0629038e-03   4.9762495e-01  -2.9637865e-03  -1.0946778e-02  -1.3419644e-03\n",
      "  -3.8252060e-01  -1.9598314e-02   4.9553440e-01  -3.1548241e-03  -1.1396192e-02  -1.5555730e-03\n",
      "  -3.6859638e-01  -2.3220697e-02   4.5203822e-01  -2.9769183e-03  -1.1187764e-02  -1.3796147e-03\n",
      "  -3.7429515e-01  -2.4075820e-02   4.5903797e-01  -2.6656759e-03  -1.1203145e-02  -1.4866063e-03\n",
      "  -3.8557878e-01  -2.7208315e-02   4.8259830e-01  -2.2955641e-03  -1.1915473e-02  -1.5638619e-03\n",
      "  -3.8991454e-01  -2.5320024e-02   4.7981693e-01  -2.1820456e-03  -1.1981771e-02  -1.5570778e-03\n",
      "  -4.0260241e-01  -3.9701592e-03   4.8948015e-01  -2.5530670e-03  -1.2370432e-02  -1.4635486e-03\n",
      "  -4.0853769e-01  -1.1933711e-02   5.0577984e-01  -2.4633623e-03  -1.2588585e-02  -1.5499962e-03\n",
      "  -3.9006863e-01  -1.1794524e-02   4.9257749e-01  -2.4808612e-03  -1.2652598e-02  -1.3441215e-03\n",
      "  -3.7838023e-01   3.8243119e-03   4.7604844e-01  -1.9052674e-03  -1.2746960e-02  -1.0334737e-03\n",
      "  -3.7931674e-01  -2.3060726e-02   4.5704348e-01  -1.8159156e-03  -1.2695319e-02  -1.1543786e-03\n",
      "  -4.1299052e-01  -6.4797633e-03   4.3537501e-01  -1.3306102e-03  -1.3485557e-02  -1.3953630e-03\n",
      "  -4.5219317e-01   2.5192257e-03   4.2445053e-01  -1.8071786e-03  -1.3758544e-02  -1.6208196e-03\n",
      "  -4.7627709e-01  -2.1590396e-02   4.4196852e-01  -1.4650168e-03  -1.3844101e-02  -1.9013521e-03\n",
      "  -5.0461874e-01  -1.8193600e-02   4.1954329e-01  -1.5006755e-03  -1.3974293e-02  -2.1765842e-03\n",
      "  -4.8522123e-01  -3.1569833e-02   4.1946567e-01  -1.5642773e-03  -1.3640267e-02  -1.9315635e-03\n",
      "  -4.8380089e-01  -2.8452926e-02   4.2531751e-01  -1.7992063e-03  -1.3779103e-02  -1.8965868e-03\n",
      "  -4.7344440e-01  -1.3648858e-02   3.9397873e-01  -1.5801625e-03  -1.3525902e-02  -1.8249368e-03\n",
      "  -4.4654714e-01  -2.3261417e-02   3.6964370e-01  -1.9013810e-03  -1.3102736e-02  -1.6067940e-03\n",
      "  -4.3096117e-01  -2.0610847e-02   3.7394851e-01  -1.7780886e-03  -1.3241783e-02  -1.3317840e-03\n",
      "  -4.3396482e-01   2.2688578e-02   3.9678751e-01  -1.7613367e-03  -1.3201003e-02  -1.3229597e-03\n",
      "  -4.1781412e-01  -2.6604406e-03   3.4588988e-01  -1.0247653e-03  -1.3297541e-02  -1.2695168e-03\n",
      "  -4.1710258e-01  -8.8548254e-03   3.5696995e-01  -9.4509370e-04  -1.3742158e-02  -9.9715985e-04\n",
      "  -4.2965282e-01   5.1298331e-03   3.8521928e-01  -9.9410439e-04  -1.3780275e-02  -1.1834295e-03\n",
      "  -4.4389097e-01  -2.1716874e-02   3.8626946e-01  -1.0321583e-03  -1.3874438e-02  -1.3285101e-03\n",
      "  -4.5640108e-01   1.8721250e-02   3.6516930e-01  -9.8878625e-04  -1.4023136e-02  -1.5266508e-03\n",
      "  -4.6060529e-01  -5.6976103e-03   3.6732884e-01  -8.8721532e-04  -1.4344370e-02  -1.4048668e-03\n",
      "  -4.5287249e-01   2.2643676e-02   3.6526608e-01  -6.2353986e-04  -1.4224469e-02  -1.2024187e-03\n",
      "  -4.4854097e-01  -1.4985517e-02   3.5266162e-01  -4.8270441e-04  -1.4155634e-02  -1.3069187e-03\n",
      "  -4.5546116e-01  -1.2474263e-02   3.5085303e-01  -1.2554901e-04  -1.4276969e-02  -1.4859004e-03\n",
      "  -4.3072032e-01   1.2660799e-02   3.3453553e-01   8.7797014e-04  -1.4071814e-02  -8.3104778e-04\n",
      "  -4.4945408e-01   5.4996747e-02   2.9276249e-01   1.2070468e-03  -1.4159928e-02  -1.1749440e-03\n",
      "  -4.5834737e-01   1.0603703e-02   3.0252330e-01   6.9342400e-04  -1.4052332e-02  -1.4619497e-03\n",
      "  -4.5795160e-01   9.1893136e-03   3.1022183e-01   1.9205051e-04  -1.4610478e-02  -1.4174436e-03\n",
      "  -4.4738083e-01   2.4118655e-02   2.9349834e-01  -2.6820757e-04  -1.4689778e-02  -1.0969259e-03\n",
      "  -4.9210159e-01   2.4075445e-02   2.9002642e-01  -4.2004273e-04  -1.4136627e-02  -2.0175560e-03\n",
      "  -5.1438451e-01   3.6602276e-02   2.4075940e-01  -5.4749506e-04  -1.3730696e-02  -2.5708314e-03\n",
      "  -5.1158334e-01   2.7958231e-02   2.4989914e-01  -1.2895034e-03  -1.3879644e-02  -2.5205262e-03\n",
      "  -4.9693818e-01   2.5610341e-02   2.5389104e-01  -1.3145280e-03  -1.4100662e-02  -2.3705574e-03\n",
      "  -4.7820739e-01   1.6998149e-02   2.6699610e-01  -1.4433714e-03  -1.3995682e-02  -2.3234147e-03\n",
      "  -4.8349647e-01   1.6708636e-03   2.4508660e-01  -1.7009878e-03  -1.4148665e-02  -2.3793712e-03\n",
      "  -4.9666563e-01   2.5419154e-02   2.5554022e-01  -1.4958235e-03  -1.4725473e-02  -2.3402445e-03\n",
      "  -5.2470730e-01   8.8944666e-03   2.5237614e-01  -1.1942107e-03  -1.4709806e-02  -2.6225336e-03\n",
      "  -5.4322191e-01   3.0914009e-03   2.7343206e-01  -2.1124722e-03  -1.5034759e-02  -2.7544850e-03\n",
      "  -5.6645079e-01   1.8710190e-02   2.9905156e-01  -2.3453796e-03  -1.5243215e-02  -3.0071342e-03\n",
      "  -5.9093039e-01   1.4242311e-02   2.7864945e-01  -2.1214790e-03  -1.5096167e-02  -3.2968912e-03\n",
      "  -5.9817519e-01   2.9144763e-02   2.5775517e-01  -2.0580314e-03  -1.4916217e-02  -3.4265171e-03\n",
      "  -6.1787168e-01   1.9223071e-02   2.4981067e-01  -2.4766460e-03  -1.5158823e-02  -3.6407876e-03\n",
      "  -5.9834490e-01  -7.3145330e-03   2.6450709e-01  -1.9793900e-03  -1.4584928e-02  -3.4703726e-03\n",
      "  -5.9208235e-01   2.3920304e-02   2.7004730e-01  -2.0000461e-03  -1.4625030e-02  -3.2575886e-03\n",
      "  -6.2816337e-01   6.4613673e-03   2.6958394e-01  -2.2973917e-03  -1.5128428e-02  -3.7148410e-03\n",
      "  -6.4049682e-01   9.8211918e-03   2.9144277e-01  -2.5327771e-03  -1.4801563e-02  -3.9490075e-03\n",
      "  -6.6390420e-01   1.9124711e-02   3.2802362e-01  -2.8819371e-03  -1.5147187e-02  -4.2583724e-03\n",
      "  -6.8054750e-01  -1.3281189e-02   3.5881791e-01  -3.0734040e-03  -1.5620781e-02  -4.4811524e-03\n",
      "  -6.9541632e-01  -6.0738959e-03   3.6848734e-01  -3.4719235e-03  -1.5150332e-02  -4.7618121e-03\n",
      "  -7.0399729e-01   4.0952720e-03   3.9788174e-01  -3.5139573e-03  -1.5074923e-02  -4.8642958e-03\n",
      "  -6.9940395e-01  -2.2348479e-02   4.1649143e-01  -3.8098178e-03  -1.5439251e-02  -4.8393688e-03\n",
      "  -6.8530326e-01  -2.4485981e-03   4.1182196e-01  -4.0738119e-03  -1.5748803e-02  -4.5467668e-03\n",
      "  -6.8611088e-01  -1.0631541e-02   3.9354215e-01  -3.7305508e-03  -1.5421763e-02  -4.5488014e-03\n",
      "  -6.6075419e-01  -8.6485885e-03   3.7334128e-01  -3.2064478e-03  -1.5514723e-02  -4.4732926e-03\n",
      "  -7.0391158e-01  -4.1102833e-02   3.8548140e-01  -4.0370041e-03  -1.5192737e-02  -4.8385390e-03\n",
      "  -7.0249033e-01  -3.0199973e-02   3.8330792e-01  -3.9196802e-03  -1.4993987e-02  -4.9821405e-03\n",
      "  -6.9573458e-01  -2.4476285e-02   3.6437878e-01  -3.8596596e-03  -1.5113234e-02  -4.8573310e-03\n",
      "  -6.9527754e-01  -2.5868624e-02   3.7089318e-01  -3.8838699e-03  -1.4965748e-02  -4.9144204e-03\n",
      "  -6.8679271e-01  -2.3313693e-02   3.6165445e-01  -4.0662813e-03  -1.4773626e-02  -4.8291365e-03\n",
      "  -6.8455348e-01  -3.4764097e-02   3.7926884e-01  -4.5404093e-03  -1.4854772e-02  -4.7195322e-03\n",
      "  -6.8910094e-01  -2.8651032e-02   3.7414186e-01  -4.1758032e-03  -1.4787118e-02  -4.8127843e-03\n",
      "  -6.8639323e-01  -2.1433287e-02   3.7761260e-01  -3.8330833e-03  -1.4804110e-02  -4.7824119e-03\n",
      "  -6.8232039e-01  -2.8936111e-03   4.0992104e-01  -4.3158329e-03  -1.4983446e-02  -4.8401740e-03\n",
      "  -6.6624872e-01  -4.5150152e-02   3.7492902e-01  -4.7378779e-03  -1.4786437e-02  -4.6633668e-03\n",
      "  -6.6061967e-01  -1.0435509e-02   3.5495420e-01  -4.6070528e-03  -1.4898830e-02  -4.5382035e-03\n",
      "  -6.7173014e-01  -5.1544630e-03   3.5908340e-01  -4.3300158e-03  -1.4797838e-02  -4.6318960e-03\n",
      "  -6.8778773e-01  -1.1579424e-02   3.4218301e-01  -4.3919736e-03  -1.4749166e-02  -4.8167360e-03\n",
      "  -7.0252663e-01  -8.8128804e-03   3.4201952e-01  -4.2743407e-03  -1.4180328e-02  -4.9784784e-03\n",
      "  -6.8795102e-01  -1.3173718e-02   3.3526768e-01  -3.8489191e-03  -1.4022000e-02  -4.9797466e-03\n",
      "  -6.8492645e-01  -7.9545991e-03   2.9303610e-01  -3.6001388e-03  -1.4352034e-02  -5.0377531e-03\n",
      "  -6.9686251e-01   1.5468304e-02   3.3828742e-01  -3.1462028e-03  -1.4851026e-02  -4.8478826e-03\n",
      "  -6.9963414e-01  -4.4826696e-03   3.5194033e-01  -2.9870889e-03  -1.5103165e-02  -5.0233235e-03\n",
      "  -7.0699782e-01  -9.3684894e-03   3.2294465e-01  -3.1048275e-03  -1.5271920e-02  -5.0672115e-03\n",
      "  -6.9445131e-01   2.5546619e-03   3.3542401e-01  -3.1198617e-03  -1.5417522e-02  -4.6675618e-03\n",
      "  -6.8572500e-01   1.4077848e-02   3.2726545e-01  -2.6810437e-03  -1.5499242e-02  -4.8228385e-03\n",
      "  -6.6813120e-01  -8.6150664e-04   2.7814568e-01  -2.8955272e-03  -1.4898280e-02  -4.8442769e-03\n",
      "     164 rp_bold.txt\n"
     ]
    }
   ],
   "source": [
    "!ls\n",
    "!fslinfo bold.nii\n",
    "!cat bold_mcf.nii.gz.par\n",
    "!wc -l bold_mcf.nii.gz.par\n",
    "!cat rp_bold.txt\n",
    "!wc -l rp_bold.txt"
   ]
  },
  {
   "cell_type": "code",
   "execution_count": 45,
   "metadata": {
    "collapsed": false,
    "slideshow": {
     "slide_type": "subslide"
    }
   },
   "outputs": [
    {
     "data": {
      "text/plain": [
       "<matplotlib.text.Text at 0x116617550>"
      ]
     },
     "execution_count": 45,
     "metadata": {},
     "output_type": "execute_result"
    },
    {
     "data": {
      "image/png": "[encoded data removed]",
      "text/plain": [
       "<matplotlib.figure.Figure at 0x1168ebdd8>"
      ]
     },
     "metadata": {},
     "output_type": "display_data"
    }
   ],
   "source": [
    "import numpy as np\n",
    "import matplotlib.pyplot as plt\n",
    "\n",
    "fig, ax = plt.subplots(2)\n",
    "ax[0].plot(np.genfromtxt('bold_mcf.nii.gz.par')[:, 3:])\n",
    "ax[0].set_title('FSL')\n",
    "\n",
    "ax[1].plot(np.genfromtxt('rp_bold.txt')[:, :3])\n",
    "ax[1].set_title('SPM')"
   ]
  },
  {
   "cell_type": "markdown",
   "metadata": {
    "slideshow": {
     "slide_type": "subslide"
    }
   },
   "source": [
    "#### if i execute the MCFLIRT line again, well, it runs again!"
   ]
  },
  {
   "cell_type": "markdown",
   "metadata": {
    "slideshow": {
     "slide_type": "slide"
    }
   },
   "source": [
    "# Step 3. Nipype caching"
   ]
  },
  {
   "cell_type": "code",
   "execution_count": 18,
   "metadata": {
    "ExecuteTime": {
     "end_time": "2016-05-28T11:15:59.432737",
     "start_time": "2016-05-28T11:15:59.406765"
    },
    "collapsed": false,
    "slideshow": {
     "slide_type": "fragment"
    }
   },
   "outputs": [],
   "source": [
    "from nipype.caching import Memory\n",
    "\n",
    "mem = Memory('.')"
   ]
  },
  {
   "cell_type": "markdown",
   "metadata": {
    "slideshow": {
     "slide_type": "fragment"
    }
   },
   "source": [
    "### Create `cacheable` objects"
   ]
  },
  {
   "cell_type": "code",
   "execution_count": 48,
   "metadata": {
    "collapsed": false,
    "slideshow": {
     "slide_type": "fragment"
    }
   },
   "outputs": [],
   "source": [
    "spm_realign = mem.cache(Realign)\n",
    "fsl_realign = mem.cache(MCFLIRT)"
   ]
  },
  {
   "cell_type": "markdown",
   "metadata": {
    "slideshow": {
     "slide_type": "subslide"
    }
   },
   "source": [
    "### Execute interfaces"
   ]
  },
  {
   "cell_type": "code",
   "execution_count": 51,
   "metadata": {
    "collapsed": false,
    "slideshow": {
     "slide_type": "fragment"
    }
   },
   "outputs": [],
   "source": [
    "spm_results = spm_realign(in_files='ds107.nii', register_to_mean=False)\n",
    "fsl_results = fsl_realign(in_file='ds107.nii', ref_vol=0, save_plots=True)"
   ]
  },
  {
   "cell_type": "code",
   "execution_count": 50,
   "metadata": {
    "collapsed": false,
    "slideshow": {
     "slide_type": "fragment"
    }
   },
   "outputs": [
    {
     "data": {
      "text/plain": [
       "[<matplotlib.lines.Line2D at 0x1160c8518>,\n",
       " <matplotlib.lines.Line2D at 0x116097ac8>,\n",
       " <matplotlib.lines.Line2D at 0x116097668>]"
      ]
     },
     "execution_count": 50,
     "metadata": {},
     "output_type": "execute_result"
    },
    {
     "data": {
      "image/png": "[encoded data removed]",
      "text/plain": [
       "<matplotlib.figure.Figure at 0x1165b25f8>"
      ]
     },
     "metadata": {},
     "output_type": "display_data"
    }
   ],
   "source": [
    "fig, ax = plt.subplots(2)\n",
    "ax[0].plot(np.genfromtxt(fsl_results.outputs.par_file)[:, 3:])\n",
    "ax[1].plot(np.genfromtxt(spm_results.outputs.realignment_parameters)[:,:3])"
   ]
  },
  {
   "cell_type": "markdown",
   "metadata": {
    "slideshow": {
     "slide_type": "subslide"
    }
   },
   "source": [
    "# More caching"
   ]
  },
  {
   "cell_type": "code",
   "execution_count": 19,
   "metadata": {
    "ExecuteTime": {
     "end_time": "2016-05-28T11:16:03.446488",
     "start_time": "2016-05-28T11:16:03.432060"
    },
    "collapsed": false,
    "slideshow": {
     "slide_type": "fragment"
    }
   },
   "outputs": [
    {
     "name": "stdout",
     "output_type": "stream",
     "text": [
      "['/Users/alexandre/nipype-tutorial/ds107/sub001/BOLD/task001_run001/bold.nii.gz', '/Users/alexandre/nipype-tutorial/ds107/sub001/BOLD/task001_run002/bold.nii.gz']\n"
     ]
    }
   ],
   "source": [
    "files = required_files[0:2]\n",
    "print(files)"
   ]
  },
  {
   "cell_type": "code",
   "execution_count": 26,
   "metadata": {
    "ExecuteTime": {
     "end_time": "2016-05-28T11:16:54.641614",
     "start_time": "2016-05-28T11:16:54.092365"
    },
    "collapsed": false,
    "slideshow": {
     "slide_type": "fragment"
    }
   },
   "outputs": [
    {
     "name": "stdout",
     "output_type": "stream",
     "text": [
      "['/Users/alexandre/Dropbox (Personal)/Documents/projects/swcarpentry/lessons/nipype-lessons/notebooks/nipype_mem/nipype-algorithms-misc-Gunzip/95c5f9fcf1c96139e3d2f69375cf7746/bold.nii', '/Users/alexandre/Dropbox (Personal)/Documents/projects/swcarpentry/lessons/nipype-lessons/notebooks/nipype_mem/nipype-algorithms-misc-Gunzip/2f1d2b6c602a72b50f16d77126e94bed/bold.nii']\n"
     ]
    }
   ],
   "source": [
    "converter = mem.cache(Gunzip)\n",
    "newfiles = []\n",
    "\n",
    "for idx, fname in enumerate(files):\n",
    "    results = converter(in_file=fname)\n",
    "    newfiles.append(results.outputs.out_file)\n",
    "\n",
    "print(newfiles)"
   ]
  },
  {
   "cell_type": "code",
   "execution_count": null,
   "metadata": {
    "collapsed": false
   },
   "outputs": [],
   "source": [
    "os.chdir(tutorial_dir)"
   ]
  },
  {
   "cell_type": "markdown",
   "metadata": {
    "slideshow": {
     "slide_type": "slide"
    }
   },
   "source": [
    "# Step 4: Nodes, Mapnodes and workflows"
   ]
  },
  {
   "cell_type": "code",
   "execution_count": 50,
   "metadata": {
    "ExecuteTime": {
     "end_time": "2016-05-29T15:50:57.533972",
     "start_time": "2016-05-29T15:50:57.519943"
    },
    "collapsed": false,
    "slideshow": {
     "slide_type": "fragment"
    }
   },
   "outputs": [],
   "source": [
    "from nipype.pipeline.engine import Node, MapNode, Workflow"
   ]
  },
  {
   "cell_type": "markdown",
   "metadata": {
    "slideshow": {
     "slide_type": "subslide"
    }
   },
   "source": [
    "**Node**:"
   ]
  },
  {
   "cell_type": "code",
   "execution_count": 51,
   "metadata": {
    "ExecuteTime": {
     "end_time": "2016-05-29T15:50:58.372981",
     "start_time": "2016-05-29T15:50:58.358233"
    },
    "collapsed": false,
    "slideshow": {
     "slide_type": "fragment"
    }
   },
   "outputs": [],
   "source": [
    "realign_spm = Node(Realign(), name='motion_correct')"
   ]
  },
  {
   "cell_type": "markdown",
   "metadata": {
    "slideshow": {
     "slide_type": "subslide"
    }
   },
   "source": [
    "**Mapnode**:\n",
    "\n",
    "<img src=\"https://raw.github.com/satra/intro2nipype/master/images/mapnode.png\" width=\"30%\">"
   ]
  },
  {
   "cell_type": "code",
   "execution_count": 53,
   "metadata": {
    "ExecuteTime": {
     "end_time": "2016-05-29T15:51:15.705974",
     "start_time": "2016-05-29T15:51:15.690908"
    },
    "collapsed": false,
    "slideshow": {
     "slide_type": "fragment"
    }
   },
   "outputs": [],
   "source": [
    "convert2nii = MapNode(Gunzip(), iterfield=['in_file'],\n",
    "                      name='convert2nii')"
   ]
  },
  {
   "cell_type": "markdown",
   "metadata": {
    "slideshow": {
     "slide_type": "subslide"
    }
   },
   "source": [
    "# \"Hello World\" of Nipype workflows"
   ]
  },
  {
   "cell_type": "code",
   "execution_count": 59,
   "metadata": {
    "ExecuteTime": {
     "end_time": "2016-05-29T15:54:48.637583",
     "start_time": "2016-05-29T15:54:48.622647"
    },
    "collapsed": false,
    "slideshow": {
     "slide_type": "fragment"
    }
   },
   "outputs": [],
   "source": [
    "realignflow = Workflow(name='realign_with_spm')\n",
    "\n",
    "#realignflow.connect(convert2nii, 'out_file', realign_spm, 'in_files')\n",
    "\n",
    "realignflow.connect([(convert2nii, realign_spm, [('out_file', 'in_files')]) ])"
   ]
  },
  {
   "cell_type": "code",
   "execution_count": 60,
   "metadata": {
    "ExecuteTime": {
     "end_time": "2016-05-29T18:40:29.859479",
     "start_time": "2016-05-29T15:55:17.164545"
    },
    "collapsed": false,
    "slideshow": {
     "slide_type": "fragment"
    }
   },
   "outputs": [
    {
     "name": "stderr",
     "output_type": "stream",
     "text": [
      "/Users/alexandre/envs/pytre/lib/python3.5/site-packages/IPython/kernel/__init__.py:13: ShimWarning: The `IPython.kernel` package has been deprecated. You should import from ipykernel or jupyter_client instead.\n",
      "  \"You should import from ipykernel or jupyter_client instead.\", ShimWarning)\n"
     ]
    },
    {
     "data": {
      "text/plain": [
       "<networkx.classes.digraph.DiGraph at 0x109009080>"
      ]
     },
     "execution_count": 60,
     "metadata": {},
     "output_type": "execute_result"
    }
   ],
   "source": [
    "convert2nii.inputs.in_file = required_files\n",
    "realign_spm.inputs.register_to_mean = False\n",
    "\n",
    "realignflow.base_dir = '.'\n",
    "realignflow.run()"
   ]
  },
  {
   "cell_type": "markdown",
   "metadata": {
    "slideshow": {
     "slide_type": "subslide"
    }
   },
   "source": [
    "# Visualize the workflow"
   ]
  },
  {
   "cell_type": "code",
   "execution_count": 64,
   "metadata": {
    "collapsed": false,
    "slideshow": {
     "slide_type": "fragment"
    }
   },
   "outputs": [],
   "source": [
    "realignflow.write_graph()"
   ]
  },
  {
   "cell_type": "code",
   "execution_count": 69,
   "metadata": {
    "ExecuteTime": {
     "end_time": "2016-05-29T18:51:12.067469",
     "start_time": "2016-05-29T18:51:12.051311"
    },
    "collapsed": false,
    "slideshow": {
     "slide_type": "fragment"
    }
   },
   "outputs": [
    {
     "data": {
      "image/png": "realign_with_spm/graph.dot.png",
      "text/plain": [
       "<IPython.core.display.Image object>"
      ]
     },
     "execution_count": 69,
     "metadata": {},
     "output_type": "execute_result"
    }
   ],
   "source": [
    "from IPython.core.display import Image\n",
    "Image('realign_with_spm/graph.dot.png')"
   ]
  },
  {
   "cell_type": "code",
   "execution_count": 68,
   "metadata": {
    "collapsed": false,
    "slideshow": {
     "slide_type": "subslide"
    }
   },
   "outputs": [
    {
     "data": {
      "image/png": "[encoded data removed]",
      "text/plain": [
       "<IPython.core.display.Image object>"
      ]
     },
     "execution_count": 68,
     "metadata": {},
     "output_type": "execute_result"
    }
   ],
   "source": [
    "realignflow.write_graph(graph2use='orig')\n",
    "Image('realign_with_spm/graph_detailed.dot.png')"
   ]
  },
  {
   "cell_type": "markdown",
   "metadata": {
    "slideshow": {
     "slide_type": "slide"
    }
   },
   "source": [
    "# Step 5. Getting and saving data\n",
    "\n",
    "### Let's use *glob*"
   ]
  },
  {
   "cell_type": "code",
   "execution_count": 81,
   "metadata": {
    "collapsed": false,
    "slideshow": {
     "slide_type": "fragment"
    }
   },
   "outputs": [
    {
     "name": "stdout",
     "output_type": "stream",
     "text": [
      "/Users/alexandre/nipype-tutorial\n"
     ]
    }
   ],
   "source": [
    "cd $tutorial_dir"
   ]
  },
  {
   "cell_type": "code",
   "execution_count": 65,
   "metadata": {
    "ExecuteTime": {
     "end_time": "2016-05-29T18:47:57.854350",
     "start_time": "2016-05-29T18:47:57.826383"
    },
    "collapsed": false,
    "slideshow": {
     "slide_type": "subslide"
    }
   },
   "outputs": [
    {
     "name": "stdout",
     "output_type": "stream",
     "text": [
      "\n",
      "func = ['/Users/alexandre/nipype-tutorial/ds107/sub001/BOLD/task001_run001/bold.nii.gz', '/Users/alexandre/nipype-tutorial/ds107/sub001/BOLD/task001_run002/bold.nii.gz']\n",
      "\n"
     ]
    }
   ],
   "source": [
    "from nipype.interfaces.io import DataGrabber, DataFinder\n",
    "\n",
    "ds = Node(DataGrabber(infields=['subject_id'], \n",
    "                      outfields=['func']),\n",
    "          name='datasource')\n",
    "\n",
    "ds.inputs.base_directory = op.join(tutorial_dir, 'ds107')\n",
    "ds.inputs.template = '%s/BOLD/task001*/bold.nii.gz'\n",
    "ds.inputs.sort_filelist = True\n",
    "\n",
    "ds.inputs.subject_id = 'sub001'\n",
    "\n",
    "print(ds.run().outputs)"
   ]
  },
  {
   "cell_type": "code",
   "execution_count": 85,
   "metadata": {
    "collapsed": false,
    "slideshow": {
     "slide_type": "fragment"
    }
   },
   "outputs": [
    {
     "name": "stdout",
     "output_type": "stream",
     "text": [
      "\n",
      "func = [['/Users/alexandre/nipype-tutorial/ds107/sub001/BOLD/task001_run001/bold.nii.gz', '/Users/alexandre/nipype-tutorial/ds107/sub001/BOLD/task001_run002/bold.nii.gz'], ['/Users/alexandre/nipype-tutorial/ds107/sub044/BOLD/task001_run001/bold.nii.gz', '/Users/alexandre/nipype-tutorial/ds107/sub044/BOLD/task001_run002/bold.nii.gz']]\n",
      "\n"
     ]
    }
   ],
   "source": [
    "ds.inputs.subject_id = ['sub001', 'sub044']\n",
    "print(ds.run().outputs)"
   ]
  },
  {
   "cell_type": "markdown",
   "metadata": {
    "slideshow": {
     "slide_type": "subslide"
    }
   },
   "source": [
    "# Multiple files per subject"
   ]
  },
  {
   "cell_type": "code",
   "execution_count": 63,
   "metadata": {
    "ExecuteTime": {
     "end_time": "2016-05-29T18:47:12.238594",
     "start_time": "2016-05-29T18:47:12.211901"
    },
    "collapsed": false,
    "slideshow": {
     "slide_type": "fragment"
    }
   },
   "outputs": [
    {
     "ename": "NameError",
     "evalue": "name 'DataGrabber' is not defined",
     "output_type": "error",
     "traceback": [
      "\u001b[0;31m---------------------------------------------------------------------------\u001b[0m",
      "\u001b[0;31mNameError\u001b[0m                                 Traceback (most recent call last)",
      "\u001b[0;32m<ipython-input-63-582090a152db>\u001b[0m in \u001b[0;36m<module>\u001b[0;34m()\u001b[0m\n\u001b[0;32m----> 1\u001b[0;31m ds = Node(DataGrabber(infields=['subject_id', 'task_id'],\n\u001b[0m\u001b[1;32m      2\u001b[0m                       outfields=['func', 'anat']),\n\u001b[1;32m      3\u001b[0m           name='datasource')\n\u001b[1;32m      4\u001b[0m \u001b[0;34m\u001b[0m\u001b[0m\n\u001b[1;32m      5\u001b[0m \u001b[0mds\u001b[0m\u001b[0;34m.\u001b[0m\u001b[0minputs\u001b[0m\u001b[0;34m.\u001b[0m\u001b[0mbase_directory\u001b[0m \u001b[0;34m=\u001b[0m \u001b[0mos\u001b[0m\u001b[0;34m.\u001b[0m\u001b[0mpath\u001b[0m\u001b[0;34m.\u001b[0m\u001b[0mabspath\u001b[0m\u001b[0;34m(\u001b[0m\u001b[0;34m'ds107'\u001b[0m\u001b[0;34m)\u001b[0m\u001b[0;34m\u001b[0m\u001b[0m\n",
      "\u001b[0;31mNameError\u001b[0m: name 'DataGrabber' is not defined"
     ]
    }
   ],
   "source": [
    "ds = Node(DataGrabber(infields=['subject_id', 'task_id'],\n",
    "                      outfields=['func', 'anat']),\n",
    "          name='datasource')\n",
    "\n",
    "ds.inputs.base_directory = os.path.abspath('ds107')\n",
    "ds.inputs.template = '*'\n",
    "ds.inputs.template_args = {'func': [['subject_id', 'task_id']],\n",
    "                           'anat': [['subject_id']]}\n",
    "\n",
    "ds.inputs.field_template = {'func': '%s/BOLD/task%03d*/bold.nii.gz',\n",
    "                            'anat': '%s/anatomy/highres001.nii.gz'}\n",
    "\n",
    "ds.inputs.sort_filelist = True\n",
    "ds.inputs.subject_id = ['sub001', 'sub044']\n",
    "ds.inputs.task_id = 1\n",
    "\n",
    "ds_out = ds.run()\n",
    "\n",
    "print(ds_out.outputs)"
   ]
  },
  {
   "cell_type": "markdown",
   "metadata": {
    "slideshow": {
     "slide_type": "subslide"
    }
   },
   "source": [
    "# Connecting to computation"
   ]
  },
  {
   "cell_type": "code",
   "execution_count": 66,
   "metadata": {
    "ExecuteTime": {
     "end_time": "2016-05-29T18:48:21.757039",
     "start_time": "2016-05-29T18:48:21.738374"
    },
    "collapsed": false,
    "slideshow": {
     "slide_type": "fragment"
    }
   },
   "outputs": [],
   "source": [
    "convert2nii = MapNode(Gunzip(), iterfield=['in_file'],\n",
    "                      name='convert2nii')\n",
    "\n",
    "realign_spm = Node(Realign(), name='motion_correct')\n",
    "realign_spm.inputs.register_to_mean = False\n",
    "\n",
    "connectedworkflow = Workflow(name='connectedtogether')\n",
    "connectedworkflow.base_dir = os.path.abspath('working_dir')\n",
    "\n",
    "connectedworkflow.connect([(ds,          convert2nii, [('func',     'in_file')]),\n",
    "                           (convert2nii, realign_spm, [('out_file', 'in_files')]),\n",
    "                          ])"
   ]
  },
  {
   "cell_type": "markdown",
   "metadata": {
    "slideshow": {
     "slide_type": "subslide"
    }
   },
   "source": [
    "# Data sinking\n",
    "\n",
    "### Take output computed in a workflow out of it."
   ]
  },
  {
   "cell_type": "code",
   "execution_count": 67,
   "metadata": {
    "ExecuteTime": {
     "end_time": "2016-05-29T18:50:56.068445",
     "start_time": "2016-05-29T18:49:22.908776"
    },
    "collapsed": false,
    "slideshow": {
     "slide_type": "subslide"
    }
   },
   "outputs": [
    {
     "data": {
      "text/plain": [
       "<networkx.classes.digraph.DiGraph at 0x10eb5b1d0>"
      ]
     },
     "execution_count": 67,
     "metadata": {},
     "output_type": "execute_result"
    }
   ],
   "source": [
    "from nipype.interfaces import DataSink\n",
    "\n",
    "sinker = Node(DataSink(), name='sinker')\n",
    "sinker.inputs.base_directory = os.path.abspath('output')\n",
    "\n",
    "connectedworkflow.connect([(realign_spm, sinker, [('realigned_files',        'realigned'),\n",
    "                                                  ('realignment_parameters', 'realigned.@parameters'),\n",
    "                                                 ]),\n",
    "                          ])"
   ]
  },
  {
   "cell_type": "markdown",
   "metadata": {
    "slideshow": {
     "slide_type": "subslide"
    }
   },
   "source": [
    "### How to determine output location\n",
    "\n",
    "    'base_directory/container/parameterization/destloc/filename'\n",
    "    \n",
    "    destloc = [@]string[[.[@]]string[[.[@]]string]...] and\n",
    "    destloc = realigned.@parameters --> 'realigned'\n",
    "    destloc = realigned.parameters.@1 --> 'realigned/parameters'\n",
    "    destloc = realigned.parameters.@2 --> 'realigned/parameters'\n",
    "    filename comes from the input to the connect statement."
   ]
  },
  {
   "cell_type": "code",
   "execution_count": 92,
   "metadata": {
    "collapsed": true,
    "slideshow": {
     "slide_type": "subslide"
    }
   },
   "outputs": [],
   "source": [
    "connectedworkflow.run?"
   ]
  },
  {
   "cell_type": "markdown",
   "metadata": {
    "slideshow": {
     "slide_type": "slide"
    }
   },
   "source": [
    "# Step 6: *iterables* - parametric execution\n",
    "\n",
    "**Workflow + iterables**: runs subgraph several times, attribute not input"
   ]
  },
  {
   "cell_type": "markdown",
   "metadata": {
    "slideshow": {
     "slide_type": "fragment"
    }
   },
   "source": [
    "<img src=\"https://raw.github.com/satra/intro2nipype/master/images/iterables.png\" width=\"30%\">"
   ]
  },
  {
   "cell_type": "code",
   "execution_count": null,
   "metadata": {
    "collapsed": false,
    "slideshow": {
     "slide_type": "subslide"
    }
   },
   "outputs": [],
   "source": [
    "ds.iterables = ('subject_id', ['sub001', 'sub044'])\n",
    "connectedworkflow.run()"
   ]
  },
  {
   "cell_type": "markdown",
   "metadata": {
    "slideshow": {
     "slide_type": "subslide"
    }
   },
   "source": [
    "# Putting it all together\n",
    "\n",
    "### iterables + MapNode + Node + Workflow + DataGrabber + DataSink"
   ]
  },
  {
   "cell_type": "code",
   "execution_count": 70,
   "metadata": {
    "ExecuteTime": {
     "end_time": "2016-05-29T18:51:18.626860",
     "start_time": "2016-05-29T18:51:17.545439"
    },
    "collapsed": false,
    "slideshow": {
     "slide_type": "fragment"
    }
   },
   "outputs": [
    {
     "data": {
      "image/png": "[encoded data removed]",
      "text/plain": [
       "<IPython.core.display.Image object>"
      ]
     },
     "execution_count": 70,
     "metadata": {},
     "output_type": "execute_result"
    }
   ],
   "source": [
    "connectedworkflow.write_graph()\n",
    "Image('working_dir/connectedtogether/graph.dot.png')"
   ]
  },
  {
   "cell_type": "markdown",
   "metadata": {
    "slideshow": {
     "slide_type": "slide"
    }
   },
   "source": [
    "# Step 7: The Function interface\n",
    "\n",
    "### The do anything you want card"
   ]
  },
  {
   "cell_type": "code",
   "execution_count": null,
   "metadata": {
    "collapsed": false,
    "slideshow": {
     "slide_type": "subslide"
    }
   },
   "outputs": [],
   "source": [
    "from nipype.interfaces.utility import Function\n",
    "\n",
    "def myfunc(input1, input2):\n",
    "    \"\"\"Add and subtract two inputs.\"\"\"\n",
    "    return input1 + input2, input1 - input2\n",
    "\n",
    "calcfunc = Node(Function(input_names=['input1', 'input2'],\n",
    "                         output_names = ['sum', 'difference'],\n",
    "                         function=myfunc),\n",
    "                name='mycalc')\n",
    "\n",
    "calcfunc.inputs.input1 = 1\n",
    "calcfunc.inputs.input2 = 2\n",
    "\n",
    "res = calcfunc.run()\n",
    "\n",
    "print res.outputs"
   ]
  },
  {
   "cell_type": "markdown",
   "metadata": {
    "slideshow": {
     "slide_type": "slide"
    }
   },
   "source": [
    "# Step 8: Distributed computing\n",
    "\n",
    "### Normally calling run executes the workflow in series"
   ]
  },
  {
   "cell_type": "code",
   "execution_count": null,
   "metadata": {
    "collapsed": false,
    "slideshow": {
     "slide_type": "fragment"
    }
   },
   "outputs": [],
   "source": [
    "connectedworkflow.run()"
   ]
  },
  {
   "cell_type": "markdown",
   "metadata": {
    "slideshow": {
     "slide_type": "subslide"
    }
   },
   "source": [
    "### but you can scale very easily\n",
    "\n",
    "For example, to use multiple cores on your local machine"
   ]
  },
  {
   "cell_type": "code",
   "execution_count": null,
   "metadata": {
    "collapsed": false,
    "slideshow": {
     "slide_type": "fragment"
    }
   },
   "outputs": [],
   "source": [
    "connectedworkflow.run('MultiProc', plugin_args={'n_procs': 4})"
   ]
  },
  {
   "cell_type": "markdown",
   "metadata": {
    "slideshow": {
     "slide_type": "subslide"
    }
   },
   "source": [
    "### Or to other job managers\n",
    "\n",
    "```python\n",
    "connectedworkflow.run('PBS', plugin_args={'qsub_args': '-q many'})\n",
    "\n",
    "connectedworkflow.run('SGE', plugin_args={'qsub_args': '-q many'})\n",
    "\n",
    "connectedworkflow.run('LSF', plugin_args={'qsub_args': '-q many'})\n",
    "\n",
    "connectedworkflow.run('Condor')\n",
    "\n",
    "connectedworkflow.run('IPython')\n",
    "```"
   ]
  },
  {
   "cell_type": "markdown",
   "metadata": {
    "slideshow": {
     "slide_type": "subslide"
    }
   },
   "source": [
    "### or submit graphs as a whole\n",
    "\n",
    "```python\n",
    "connectedworkflow.run('PBSGraph', plugin_args={'qsub_args': '-q many'})\n",
    "\n",
    "connectedworkflow.run('SGEGraph', plugin_args={'qsub_args': '-q many'})\n",
    "\n",
    "connectedworkflow.run('CondorDAGMan')\n",
    "```"
   ]
  },
  {
   "cell_type": "markdown",
   "metadata": {
    "slideshow": {
     "slide_type": "subslide"
    }
   },
   "source": [
    "### Current Requirement: **SHARED FILESYSTEM**"
   ]
  },
  {
   "cell_type": "markdown",
   "metadata": {
    "slideshow": {
     "slide_type": "subslide"
    }
   },
   "source": [
    "### You can also set node specific plugin arguments"
   ]
  },
  {
   "cell_type": "markdown",
   "metadata": {
    "slideshow": {
     "slide_type": "fragment"
    }
   },
   "source": [
    "```python\n",
    "node.plugin_args = {'qsub_args': '-l nodes=1:ppn=3', 'overwrite': True}\n",
    "```"
   ]
  },
  {
   "cell_type": "markdown",
   "metadata": {
    "slideshow": {
     "slide_type": "slide"
    }
   },
   "source": [
    "# Step 9: Connecting to Databases"
   ]
  },
  {
   "cell_type": "code",
   "execution_count": null,
   "metadata": {
    "collapsed": false,
    "slideshow": {
     "slide_type": "subslide"
    }
   },
   "outputs": [],
   "source": [
    "from os.path import abspath as opap\n",
    "\n",
    "from nipype.interfaces.io import XNATSource\n",
    "from nipype.pipeline.engine import Node, Workflow\n",
    "from nipype.interfaces.fsl import BET\n",
    "\n",
    "subject_id = 'xnat_S00001'\n",
    "\n",
    "dg = Node(XNATSource(infields=['subject_id'],\n",
    "                     outfields=['struct'],\n",
    "                     config='/Users/satra/xnat_configs/nitrc_ir_config'),\n",
    "          name='xnatsource')\n",
    "\n",
    "dg.inputs.query_template = ('/projects/fcon_1000/subjects/%s/experiments/xnat_E00001'\n",
    "                            '/scans/%s/resources/NIfTI/files')\n",
    "dg.inputs.query_template_args['struct'] = [['subject_id', 'anat_mprage_anonymized']]\n",
    "dg.inputs.subject_id = subject_id\n",
    "\n",
    "bet = Node(BET(), name='skull_stripper')\n",
    "\n",
    "wf = Workflow(name='testxnat')\n",
    "wf.base_dir = opap('xnattest')\n",
    "\n",
    "wf.connect(dg, 'struct', bet, 'in_file')"
   ]
  },
  {
   "cell_type": "code",
   "execution_count": null,
   "metadata": {
    "collapsed": false,
    "slideshow": {
     "slide_type": "subslide"
    }
   },
   "outputs": [],
   "source": [
    "from nipype.interfaces.io import XNATSink\n",
    "\n",
    "ds = Node(XNATSink(config='/Users/satra/xnat_configs/central_config'),\n",
    "          name='xnatsink')\n",
    "\n",
    "ds.inputs.project_id = 'NPTEST'\n",
    "ds.inputs.subject_id = 'NPTEST_xnat_S00001'\n",
    "ds.inputs.experiment_id = 'test_xnat'\n",
    "ds.inputs.reconstruction_id = 'bet'\n",
    "ds.inputs.share = True\n",
    "\n",
    "wf.connect(bet, 'out_file', ds, 'brain')"
   ]
  },
  {
   "cell_type": "code",
   "execution_count": null,
   "metadata": {
    "collapsed": false,
    "slideshow": {
     "slide_type": "subslide"
    }
   },
   "outputs": [],
   "source": [
    "wf.run()"
   ]
  },
  {
   "cell_type": "markdown",
   "metadata": {
    "slideshow": {
     "slide_type": "slide"
    }
   },
   "source": [
    "# Step 10: Configuration options\n",
    "\n",
    "[Configurable options](http://nipy.org/nipype/users/config_file.html) control workflow and node execution options\n",
    "\n",
    "At the global level:"
   ]
  },
  {
   "cell_type": "code",
   "execution_count": null,
   "metadata": {
    "collapsed": false,
    "slideshow": {
     "slide_type": "subslide"
    }
   },
   "outputs": [],
   "source": [
    "from nipype import config, logging\n",
    "\n",
    "config.enable_debug_mode()\n",
    "logging.update_logging(config)\n",
    "\n",
    "config.set('execution', 'stop_on_first_crash', 'true')"
   ]
  },
  {
   "cell_type": "markdown",
   "metadata": {
    "slideshow": {
     "slide_type": "subslide"
    }
   },
   "source": [
    "At the workflow level:"
   ]
  },
  {
   "cell_type": "code",
   "execution_count": null,
   "metadata": {
    "collapsed": false,
    "slideshow": {
     "slide_type": "fragment"
    }
   },
   "outputs": [],
   "source": [
    "wf.config['execution']['hash_method'] = 'content'"
   ]
  },
  {
   "cell_type": "markdown",
   "metadata": {
    "slideshow": {
     "slide_type": "subslide"
    }
   },
   "source": [
    "Configurations can also be set at the node level."
   ]
  },
  {
   "cell_type": "code",
   "execution_count": null,
   "metadata": {
    "collapsed": false,
    "slideshow": {
     "slide_type": "fragment"
    }
   },
   "outputs": [],
   "source": [
    "bet.config = {'execution': {'keep_unnecessary_outputs': 'true'}}"
   ]
  },
  {
   "cell_type": "code",
   "execution_count": null,
   "metadata": {
    "collapsed": false,
    "slideshow": {
     "slide_type": "fragment"
    }
   },
   "outputs": [],
   "source": [
    "wf.run()"
   ]
  },
  {
   "cell_type": "markdown",
   "metadata": {
    "slideshow": {
     "slide_type": "slide"
    }
   },
   "source": [
    "# Reusable workflows"
   ]
  },
  {
   "cell_type": "code",
   "execution_count": null,
   "metadata": {
    "collapsed": false,
    "slideshow": {
     "slide_type": "subslide"
    }
   },
   "outputs": [],
   "source": [
    "config.set_default_config()\n",
    "logging.update_logging(config)"
   ]
  },
  {
   "cell_type": "code",
   "execution_count": null,
   "metadata": {
    "collapsed": false,
    "slideshow": {
     "slide_type": "fragment"
    }
   },
   "outputs": [],
   "source": [
    "from nipype.workflows.fmri.fsl.preprocess import create_susan_smooth\n",
    "\n",
    "smooth = create_susan_smooth()\n",
    "smooth.inputs.inputnode.in_files = opap('output/realigned/_subject_id_sub044/rbold_out.nii')\n",
    "smooth.inputs.inputnode.fwhm = 5\n",
    "smooth.inputs.inputnode.mask_file = 'mask.nii'\n",
    "\n",
    "smooth.run() # Will error because mask.nii does not exist"
   ]
  },
  {
   "cell_type": "code",
   "execution_count": null,
   "metadata": {
    "collapsed": false,
    "slideshow": {
     "slide_type": "subslide"
    }
   },
   "outputs": [],
   "source": [
    "from nipype.interfaces.fsl import BET, MeanImage, ImageMaths\n",
    "from nipype.pipeline.engine import Node\n",
    "\n",
    "remove_nan = Node(ImageMaths(op_string= '-nan'), name='nanremove')\n",
    "remove_nan.inputs.in_file = op.abspath('output/realigned/_subject_id_sub044/rbold_out.nii')\n",
    "\n",
    "mi = Node(MeanImage(), name='mean')\n",
    "mask = Node(BET(mask=True), name='mask')\n",
    "\n",
    "wf = Workflow('reuse')\n",
    "wf.base_dir = op.abspath(op.curdir)\n",
    "\n",
    "wf.connect([(remove_nan, mi,     ['out_file', 'in_file']),\n",
    "            (mi,         mask,   ['out_file', 'in_file']),\n",
    "            (mask,       smooth, ['out_file', 'inputnode.mask_file']),\n",
    "            (remove_nan, smooth, ['out_file', 'inputnode.in_files']),\n",
    "           ])\n",
    "\n",
    "wf.run()"
   ]
  },
  {
   "cell_type": "markdown",
   "metadata": {
    "slideshow": {
     "slide_type": "subslide"
    }
   },
   "source": [
    "## Setting internal parameters of workflows"
   ]
  },
  {
   "cell_type": "code",
   "execution_count": null,
   "metadata": {
    "collapsed": false,
    "slideshow": {
     "slide_type": "-"
    }
   },
   "outputs": [],
   "source": [
    "print(smooth.list_node_names())\n",
    "\n",
    "median = smooth.get_node('median')\n",
    "median.inputs.op_string = '-k %s -p 60'"
   ]
  },
  {
   "cell_type": "code",
   "execution_count": null,
   "metadata": {
    "collapsed": false
   },
   "outputs": [],
   "source": [
    "wf.run()"
   ]
  },
  {
   "cell_type": "markdown",
   "metadata": {
    "slideshow": {
     "slide_type": "slide"
    }
   },
   "source": [
    "# Summary\n",
    "\n",
    "\n",
    "- This tutorial covers the concepts of Nipype\n",
    "\n",
    "    1. Installing and testing the installation \n",
    "    2. Working with interfaces\n",
    "    3. Using Nipype caching\n",
    "    4. Creating Nodes, MapNodes and Workflows\n",
    "    5. Getting and saving data\n",
    "    6. Using Iterables\n",
    "    7. Function nodes\n",
    "    8. Distributed computation\n",
    "    9. Connecting to databases\n",
    "    10. Execution configuration options\n",
    "\n",
    "- It will allow you to reuse and debug the various workflows available in Nipype, BIPS and CPAC\n",
    "- Please contribute new interfaces and workflows!"
   ]
  }
 ],
 "metadata": {
  "_draft": {
   "nbviewer_url": "gisting : nipype.ipynb\r\n"
  },
  "celltoolbar": "Slideshow",
  "kernelspec": {
   "display_name": "Python 3",
   "language": "python",
   "name": "python3"
  },
  "language_info": {
   "codemirror_mode": {
    "name": "ipython",
    "version": 3
   },
   "file_extension": ".py",
   "mimetype": "text/x-python",
   "name": "python",
   "nbconvert_exporter": "python",
   "pygments_lexer": "ipython3",
   "version": "3.5.1"
  },
  "latex_envs": {
   "bibliofile": "biblio.bib",
   "cite_by": "apalike",
   "current_citInitial": 1,
   "eqLabelWithNumbers": true,
   "eqNumInitial": 0
  },
  "toc": {
   "toc_cell": false,
   "toc_number_sections": true,
   "toc_threshold": 6,
   "toc_window_display": false
  }
 },
 "nbformat": 4,
 "nbformat_minor": 0
}
